{
 "cells": [
  {
   "cell_type": "markdown",
   "metadata": {},
   "source": [
    "## Latent Factorized Collaborative Filter with Mini-Batch SGD on Amazon Beauty Product "
   ]
  },
  {
   "cell_type": "code",
   "execution_count": 3,
   "metadata": {
    "collapsed": true
   },
   "outputs": [],
   "source": [
    "import copy\n",
    "import os\n",
    "import pandas as pd\n",
    "import math\n",
    "import gzip\n",
    "import numpy as np\n",
    "import matplotlib.pyplot as plt\n",
    "from sklearn.metrics.pairwise import cosine_similarity\n",
    "import seaborn as sns; sns.set(style=\"white\", color_codes=True)\n",
    "import json\n",
    "from sklearn.metrics import mean_squared_error\n",
    "%matplotlib inline"
   ]
  },
  {
   "cell_type": "markdown",
   "metadata": {},
   "source": [
    "### Read In Data"
   ]
  },
  {
   "cell_type": "code",
   "execution_count": 4,
   "metadata": {
    "collapsed": true
   },
   "outputs": [],
   "source": [
    "def parse(path):\n",
    "    g = open(path, 'rb')\n",
    "    for l in g:\n",
    "        yield eval(l)\n",
    "\n",
    "def getDF(path):\n",
    "    i = 0\n",
    "    df = {}\n",
    "    for d in parse(path):\n",
    "        df[i] = d\n",
    "        i += 1\n",
    "    return pd.DataFrame.from_dict(df, orient='index')\n",
    "\n",
    "df_original = getDF('Beauty_5.json')"
   ]
  },
  {
   "cell_type": "code",
   "execution_count": 7,
   "metadata": {
    "collapsed": false
   },
   "outputs": [
    {
     "data": {
      "text/html": [
       "<div>\n",
       "<style>\n",
       "    .dataframe thead tr:only-child th {\n",
       "        text-align: right;\n",
       "    }\n",
       "\n",
       "    .dataframe thead th {\n",
       "        text-align: left;\n",
       "    }\n",
       "\n",
       "    .dataframe tbody tr th {\n",
       "        vertical-align: top;\n",
       "    }\n",
       "</style>\n",
       "<table border=\"1\" class=\"dataframe\">\n",
       "  <thead>\n",
       "    <tr style=\"text-align: right;\">\n",
       "      <th></th>\n",
       "      <th>reviewerID</th>\n",
       "      <th>asin</th>\n",
       "      <th>reviewerName</th>\n",
       "      <th>unixReviewTime</th>\n",
       "      <th>summary</th>\n",
       "      <th>overall</th>\n",
       "      <th>helpful</th>\n",
       "      <th>reviewTime</th>\n",
       "      <th>reviewText</th>\n",
       "    </tr>\n",
       "  </thead>\n",
       "  <tbody>\n",
       "    <tr>\n",
       "      <th>0</th>\n",
       "      <td>A1YJEY40YUW4SE</td>\n",
       "      <td>7806397051</td>\n",
       "      <td>Andrea</td>\n",
       "      <td>1391040000</td>\n",
       "      <td>Don't waste your money</td>\n",
       "      <td>1.0</td>\n",
       "      <td>[3, 4]</td>\n",
       "      <td>01 30, 2014</td>\n",
       "      <td>Very oily and creamy. Not at all what I expect...</td>\n",
       "    </tr>\n",
       "    <tr>\n",
       "      <th>1</th>\n",
       "      <td>A60XNB876KYML</td>\n",
       "      <td>7806397051</td>\n",
       "      <td>Jessica H.</td>\n",
       "      <td>1397779200</td>\n",
       "      <td>OK Palette!</td>\n",
       "      <td>3.0</td>\n",
       "      <td>[1, 1]</td>\n",
       "      <td>04 18, 2014</td>\n",
       "      <td>This palette was a decent price and I was look...</td>\n",
       "    </tr>\n",
       "    <tr>\n",
       "      <th>2</th>\n",
       "      <td>A3G6XNM240RMWA</td>\n",
       "      <td>7806397051</td>\n",
       "      <td>Karen</td>\n",
       "      <td>1378425600</td>\n",
       "      <td>great quality</td>\n",
       "      <td>4.0</td>\n",
       "      <td>[0, 1]</td>\n",
       "      <td>09 6, 2013</td>\n",
       "      <td>The texture of this concealer pallet is fantas...</td>\n",
       "    </tr>\n",
       "    <tr>\n",
       "      <th>3</th>\n",
       "      <td>A1PQFP6SAJ6D80</td>\n",
       "      <td>7806397051</td>\n",
       "      <td>Norah</td>\n",
       "      <td>1386460800</td>\n",
       "      <td>Do not work on my face</td>\n",
       "      <td>2.0</td>\n",
       "      <td>[2, 2]</td>\n",
       "      <td>12 8, 2013</td>\n",
       "      <td>I really can't tell what exactly this thing is...</td>\n",
       "    </tr>\n",
       "    <tr>\n",
       "      <th>4</th>\n",
       "      <td>A38FVHZTNQ271F</td>\n",
       "      <td>7806397051</td>\n",
       "      <td>Nova Amor</td>\n",
       "      <td>1382140800</td>\n",
       "      <td>It's okay.</td>\n",
       "      <td>3.0</td>\n",
       "      <td>[0, 0]</td>\n",
       "      <td>10 19, 2013</td>\n",
       "      <td>It was a little smaller than I expected, but t...</td>\n",
       "    </tr>\n",
       "  </tbody>\n",
       "</table>\n",
       "</div>"
      ],
      "text/plain": [
       "       reviewerID        asin reviewerName  unixReviewTime  \\\n",
       "0  A1YJEY40YUW4SE  7806397051       Andrea      1391040000   \n",
       "1   A60XNB876KYML  7806397051   Jessica H.      1397779200   \n",
       "2  A3G6XNM240RMWA  7806397051        Karen      1378425600   \n",
       "3  A1PQFP6SAJ6D80  7806397051        Norah      1386460800   \n",
       "4  A38FVHZTNQ271F  7806397051    Nova Amor      1382140800   \n",
       "\n",
       "                  summary  overall helpful   reviewTime  \\\n",
       "0  Don't waste your money      1.0  [3, 4]  01 30, 2014   \n",
       "1             OK Palette!      3.0  [1, 1]  04 18, 2014   \n",
       "2           great quality      4.0  [0, 1]   09 6, 2013   \n",
       "3  Do not work on my face      2.0  [2, 2]   12 8, 2013   \n",
       "4              It's okay.      3.0  [0, 0]  10 19, 2013   \n",
       "\n",
       "                                          reviewText  \n",
       "0  Very oily and creamy. Not at all what I expect...  \n",
       "1  This palette was a decent price and I was look...  \n",
       "2  The texture of this concealer pallet is fantas...  \n",
       "3  I really can't tell what exactly this thing is...  \n",
       "4  It was a little smaller than I expected, but t...  "
      ]
     },
     "execution_count": 7,
     "metadata": {},
     "output_type": "execute_result"
    }
   ],
   "source": [
    "df_original.head()"
   ]
  },
  {
   "cell_type": "code",
   "execution_count": 5,
   "metadata": {
    "collapsed": true
   },
   "outputs": [],
   "source": [
    "df=copy.deepcopy(df_original)\n",
    "df['unixReviewTime']=pd.to_datetime(df['unixReviewTime'],unit='s')\n",
    "df.drop(['reviewTime'],axis=1,inplace=True)\n",
    "# set unique ID for each review\n",
    "df['ReviewID']=df.index+1"
   ]
  },
  {
   "cell_type": "markdown",
   "metadata": {},
   "source": [
    "### Check Distribution of Ratings"
   ]
  },
  {
   "cell_type": "code",
   "execution_count": 6,
   "metadata": {
    "collapsed": false
   },
   "outputs": [
    {
     "data": {
      "image/png": "[encoded data removed]",
      "text/plain": [
       "<matplotlib.figure.Figure at 0x10ea4d518>"
      ]
     },
     "metadata": {},
     "output_type": "display_data"
    }
   ],
   "source": [
    "fig = plt.figure(figsize=(10,5))\n",
    "ax = fig.add_subplot(121)\n",
    "ax.hist(df['overall'], bins=[0.9, 1.1, 1.9, 2.1, 2.9, 3.1, 3.9, 4.1, 4.9, 5.1])\n",
    "ax.set_xlabel('product rating', fontsize=15)\n",
    "\n",
    "# mean ratings from each user\n",
    "mean_rating_of_user = df.groupby('reviewerID').apply(lambda x: x['overall'].mean())\n",
    "ax = fig.add_subplot(122)\n",
    "ax.hist(mean_rating_of_user)\n",
    "ax.set_xlabel('mean rating given by each user', fontsize=15)\n",
    "plt.tight_layout()\n",
    "plt.show()"
   ]
  },
  {
   "cell_type": "markdown",
   "metadata": {},
   "source": [
    "The ratings on items are severely left-skewed. Normalization is required both reviewer-wisely and item-wisely when training the models."
   ]
  },
  {
   "cell_type": "markdown",
   "metadata": {},
   "source": [
    "### Check Number Of Reviewer and Items"
   ]
  },
  {
   "cell_type": "code",
   "execution_count": 7,
   "metadata": {
    "collapsed": false
   },
   "outputs": [
    {
     "name": "stdout",
     "output_type": "stream",
     "text": [
      "22363 users\n",
      "12101 items\n"
     ]
    }
   ],
   "source": [
    "n_users = df.reviewerID.unique().shape[0]\n",
    "n_items = df.asin.unique().shape[0]\n",
    "print (str(n_users) + ' users')\n",
    "print (str(n_items) + ' items')"
   ]
  },
  {
   "cell_type": "markdown",
   "metadata": {},
   "source": [
    "### Parse ID to Number"
   ]
  },
  {
   "cell_type": "markdown",
   "metadata": {},
   "source": [
    "This step maps all asin and revierID in strings to numerical ID, which would be applied as position indexs of the rating matrixs with row as the number of reviewers times the columns as the number of items."
   ]
  },
  {
   "cell_type": "code",
   "execution_count": 8,
   "metadata": {
    "collapsed": true
   },
   "outputs": [],
   "source": [
    "df = df.sort_values(['reviewerID', 'asin'], ascending = [True, True])\n",
    "df.asin=pd.core.categorical.Categorical(df.asin)\n",
    "df['asin_id']=df.asin.cat.codes\n",
    "df.reviewerID=pd.core.categorical.Categorical(df.reviewerID)\n",
    "df['reviewer_ID']=df.reviewerID.cat.codes"
   ]
  },
  {
   "cell_type": "code",
   "execution_count": 9,
   "metadata": {
    "collapsed": false
   },
   "outputs": [
    {
     "name": "stdout",
     "output_type": "stream",
     "text": [
      "reviewer  22363\n",
      "item  12101\n"
     ]
    }
   ],
   "source": [
    "#check for the output of transformation to category\n",
    "print (\"reviewer \",pd.DataFrame(df.groupby(['reviewer_ID'])['reviewerID'].nunique()).sort_values(['reviewerID'],ascending=False).shape[0])\n",
    "print (\"item \", pd.DataFrame(df.groupby(['asin_id'])['asin'].nunique()).sort_values(['asin'],ascending=False).shape[0])"
   ]
  },
  {
   "cell_type": "markdown",
   "metadata": {},
   "source": [
    "### Construct User-Item Matrix"
   ]
  },
  {
   "cell_type": "code",
   "execution_count": 10,
   "metadata": {
    "collapsed": false
   },
   "outputs": [
    {
     "data": {
      "text/plain": [
       "array([[ 0.,  0.,  0., ...,  0.,  0.,  0.],\n",
       "       [ 0.,  0.,  0., ...,  0.,  0.,  0.],\n",
       "       [ 0.,  0.,  0., ...,  0.,  0.,  0.],\n",
       "       ..., \n",
       "       [ 0.,  0.,  0., ...,  0.,  0.,  0.],\n",
       "       [ 0.,  0.,  0., ...,  0.,  0.,  0.],\n",
       "       [ 0.,  0.,  0., ...,  0.,  0.,  0.]])"
      ]
     },
     "execution_count": 10,
     "metadata": {},
     "output_type": "execute_result"
    }
   ],
   "source": [
    "df.head()\n",
    "df_ratings=df[['reviewer_ID','asin_id','overall']]\n",
    "ratings = np.zeros((n_users, n_items))\n",
    "\n",
    "for row in df_ratings.itertuples():\n",
    "    #print (row[1],row[2],row[3])\n",
    "    ratings[row[1], row[2]] = row[3]\n",
    "    \n",
    "ratings"
   ]
  },
  {
   "cell_type": "code",
   "execution_count": 11,
   "metadata": {
    "collapsed": false
   },
   "outputs": [
    {
     "name": "stdout",
     "output_type": "stream",
     "text": [
      "Sparsity: 0.07%\n"
     ]
    }
   ],
   "source": [
    "#sparsity check\n",
    "sparsity = float(len(ratings.nonzero()[0]))\n",
    "sparsity = (sparsity/(ratings.shape[0] * ratings.shape[1]))*100\n",
    "print ('Sparsity: {:4.2f}%'.format(sparsity))"
   ]
  },
  {
   "cell_type": "markdown",
   "metadata": {},
   "source": [
    "### Check Distribution on Number of Items Rated by Users and Items Rated by Number of Users"
   ]
  },
  {
   "cell_type": "code",
   "execution_count": 12,
   "metadata": {
    "collapsed": true
   },
   "outputs": [],
   "source": [
    "min_rated_items=ratings.nonzero()[0]\n",
    "min_rated_items_collection={}\n",
    "for i in min_rated_items:\n",
    "    if i in min_rated_items_collection:\n",
    "        min_rated_items_collection[i]=min_rated_items_collection[i]+1\n",
    "    else:\n",
    "        min_rated_items_collection[i]=1"
   ]
  },
  {
   "cell_type": "code",
   "execution_count": 13,
   "metadata": {
    "collapsed": false
   },
   "outputs": [
    {
     "name": "stdout",
     "output_type": "stream",
     "text": [
      "User rated  204 items at the most\n",
      "User rated  5 items at the least\n"
     ]
    }
   ],
   "source": [
    "user_rate_count=sorted(min_rated_items_collection.items(),key=lambda x:x[1])\n",
    "print ('User rated ',user_rate_count[-1][1], 'items at the most')\n",
    "print ('User rated ',user_rate_count[0][1], 'items at the least')"
   ]
  },
  {
   "cell_type": "code",
   "execution_count": 14,
   "metadata": {
    "collapsed": true
   },
   "outputs": [],
   "source": [
    "min_rate_by_users=ratings.nonzero()[1]\n",
    "min_rate_by_users_collection={}\n",
    "for i in min_rate_by_users:\n",
    "    if i in min_rate_by_users_collection:\n",
    "        min_rate_by_users_collection[i]=min_rate_by_users_collection[i]+1\n",
    "    else:\n",
    "        min_rate_by_users_collection[i]=1"
   ]
  },
  {
   "cell_type": "code",
   "execution_count": 16,
   "metadata": {
    "collapsed": false
   },
   "outputs": [
    {
     "name": "stdout",
     "output_type": "stream",
     "text": [
      "Item rated by  431  users at the most\n",
      "Item rated by  5  users at the least\n"
     ]
    }
   ],
   "source": [
    "item_rate_count=sorted(min_rate_by_users_collection.items(),key=lambda x:x[1])\n",
    "print ('Item rated by ',item_rate_count[-1][1], ' users at the most')\n",
    "print ('Item rated by ',item_rate_count[0][1], ' users at the least')"
   ]
  },
  {
   "cell_type": "code",
   "execution_count": 17,
   "metadata": {
    "collapsed": true
   },
   "outputs": [],
   "source": [
    "# set-up bins\n",
    "count_bin=np.linspace(10,100,10).tolist()\n",
    "count_bin.extend([5,300,500])\n",
    "array_rate_count=np.array(count_bin)\n",
    "array_rate_count=np.sort(array_rate_count)"
   ]
  },
  {
   "cell_type": "code",
   "execution_count": 18,
   "metadata": {
    "collapsed": false
   },
   "outputs": [
    {
     "data": {
      "text/html": [
       "<div>\n",
       "<style>\n",
       "    .dataframe thead tr:only-child th {\n",
       "        text-align: right;\n",
       "    }\n",
       "\n",
       "    .dataframe thead th {\n",
       "        text-align: left;\n",
       "    }\n",
       "\n",
       "    .dataframe tbody tr th {\n",
       "        vertical-align: top;\n",
       "    }\n",
       "</style>\n",
       "<table border=\"1\" class=\"dataframe\">\n",
       "  <thead>\n",
       "    <tr style=\"text-align: right;\">\n",
       "      <th></th>\n",
       "      <th>rated_items_cat</th>\n",
       "      <th>userID</th>\n",
       "    </tr>\n",
       "  </thead>\n",
       "  <tbody>\n",
       "    <tr>\n",
       "      <th>0</th>\n",
       "      <td>(, 5]</td>\n",
       "      <td>7162</td>\n",
       "    </tr>\n",
       "    <tr>\n",
       "      <th>1</th>\n",
       "      <td>(10, 20]</td>\n",
       "      <td>3106</td>\n",
       "    </tr>\n",
       "    <tr>\n",
       "      <th>2</th>\n",
       "      <td>(100, 300]</td>\n",
       "      <td>17</td>\n",
       "    </tr>\n",
       "    <tr>\n",
       "      <th>3</th>\n",
       "      <td>(20, 30]</td>\n",
       "      <td>655</td>\n",
       "    </tr>\n",
       "    <tr>\n",
       "      <th>4</th>\n",
       "      <td>(30, 40]</td>\n",
       "      <td>231</td>\n",
       "    </tr>\n",
       "    <tr>\n",
       "      <th>5</th>\n",
       "      <td>(40, 50]</td>\n",
       "      <td>97</td>\n",
       "    </tr>\n",
       "    <tr>\n",
       "      <th>6</th>\n",
       "      <td>(5, 10]</td>\n",
       "      <td>10959</td>\n",
       "    </tr>\n",
       "    <tr>\n",
       "      <th>7</th>\n",
       "      <td>(50, 60]</td>\n",
       "      <td>62</td>\n",
       "    </tr>\n",
       "    <tr>\n",
       "      <th>8</th>\n",
       "      <td>(60, 70]</td>\n",
       "      <td>23</td>\n",
       "    </tr>\n",
       "    <tr>\n",
       "      <th>9</th>\n",
       "      <td>(70, 80]</td>\n",
       "      <td>26</td>\n",
       "    </tr>\n",
       "    <tr>\n",
       "      <th>10</th>\n",
       "      <td>(80, 90]</td>\n",
       "      <td>14</td>\n",
       "    </tr>\n",
       "    <tr>\n",
       "      <th>11</th>\n",
       "      <td>(90, 100]</td>\n",
       "      <td>11</td>\n",
       "    </tr>\n",
       "  </tbody>\n",
       "</table>\n",
       "</div>"
      ],
      "text/plain": [
       "   rated_items_cat  userID\n",
       "0            (, 5]    7162\n",
       "1         (10, 20]    3106\n",
       "2       (100, 300]      17\n",
       "3         (20, 30]     655\n",
       "4         (30, 40]     231\n",
       "5         (40, 50]      97\n",
       "6          (5, 10]   10959\n",
       "7         (50, 60]      62\n",
       "8         (60, 70]      23\n",
       "9         (70, 80]      26\n",
       "10        (80, 90]      14\n",
       "11       (90, 100]      11"
      ]
     },
     "execution_count": 18,
     "metadata": {},
     "output_type": "execute_result"
    }
   ],
   "source": [
    "# get the user-rated item number distribution table\n",
    "def to_category(row,colname='rated_items',cate=array_rate_count):\n",
    "    first_arg=np.where(cate>=row[colname])[0][0]\n",
    "    if first_arg!=0:\n",
    "        return \"(\"+str(int(cate[first_arg-1]))+\", \"+str(int(cate[first_arg]))+\"]\", cate[first_arg]\n",
    "    else:\n",
    "        return \"(, \"+str(int(cate[first_arg]))+\"]\", cate[first_arg]\n",
    "\n",
    "item_count=pd.DataFrame.from_dict(min_rated_items_collection,orient='index')\\\n",
    ".reset_index().rename(columns={'index':'userID',0: 'rated_items'})\n",
    "item_count['rated_items_cat'],item_count['rated_items_num']=zip(*item_count\\\n",
    "                                                                .apply(to_category,cate=array_rate_count,axis=1))\n",
    "pd.DataFrame(item_count.groupby(['rated_items_cat'])['userID'].count()).reset_index()"
   ]
  },
  {
   "cell_type": "code",
   "execution_count": 19,
   "metadata": {
    "collapsed": false
   },
   "outputs": [
    {
     "data": {
      "image/png": "[encoded data removed]",
      "text/plain": [
       "<matplotlib.figure.Figure at 0x114ba2f28>"
      ]
     },
     "metadata": {},
     "output_type": "display_data"
    }
   ],
   "source": [
    "plt.hist(item_count['rated_items_num'],array_rate_count)\n",
    "plt.title('number of items rated by each users', fontsize=15)\n",
    "plt.show()"
   ]
  },
  {
   "cell_type": "code",
   "execution_count": 20,
   "metadata": {
    "collapsed": false
   },
   "outputs": [
    {
     "data": {
      "text/html": [
       "<div>\n",
       "<style>\n",
       "    .dataframe thead tr:only-child th {\n",
       "        text-align: right;\n",
       "    }\n",
       "\n",
       "    .dataframe thead th {\n",
       "        text-align: left;\n",
       "    }\n",
       "\n",
       "    .dataframe tbody tr th {\n",
       "        vertical-align: top;\n",
       "    }\n",
       "</style>\n",
       "<table border=\"1\" class=\"dataframe\">\n",
       "  <thead>\n",
       "    <tr style=\"text-align: right;\">\n",
       "      <th></th>\n",
       "      <th>rated_by_user_cat</th>\n",
       "      <th>itemID</th>\n",
       "    </tr>\n",
       "  </thead>\n",
       "  <tbody>\n",
       "    <tr>\n",
       "      <th>0</th>\n",
       "      <td>(, 5]</td>\n",
       "      <td>2181</td>\n",
       "    </tr>\n",
       "    <tr>\n",
       "      <th>1</th>\n",
       "      <td>(10, 20]</td>\n",
       "      <td>2632</td>\n",
       "    </tr>\n",
       "    <tr>\n",
       "      <th>2</th>\n",
       "      <td>(100, 300]</td>\n",
       "      <td>159</td>\n",
       "    </tr>\n",
       "    <tr>\n",
       "      <th>3</th>\n",
       "      <td>(20, 30]</td>\n",
       "      <td>870</td>\n",
       "    </tr>\n",
       "    <tr>\n",
       "      <th>4</th>\n",
       "      <td>(30, 40]</td>\n",
       "      <td>422</td>\n",
       "    </tr>\n",
       "    <tr>\n",
       "      <th>5</th>\n",
       "      <td>(300, 500]</td>\n",
       "      <td>10</td>\n",
       "    </tr>\n",
       "    <tr>\n",
       "      <th>6</th>\n",
       "      <td>(40, 50]</td>\n",
       "      <td>240</td>\n",
       "    </tr>\n",
       "    <tr>\n",
       "      <th>7</th>\n",
       "      <td>(5, 10]</td>\n",
       "      <td>5031</td>\n",
       "    </tr>\n",
       "    <tr>\n",
       "      <th>8</th>\n",
       "      <td>(50, 60]</td>\n",
       "      <td>181</td>\n",
       "    </tr>\n",
       "    <tr>\n",
       "      <th>9</th>\n",
       "      <td>(60, 70]</td>\n",
       "      <td>138</td>\n",
       "    </tr>\n",
       "    <tr>\n",
       "      <th>10</th>\n",
       "      <td>(70, 80]</td>\n",
       "      <td>89</td>\n",
       "    </tr>\n",
       "    <tr>\n",
       "      <th>11</th>\n",
       "      <td>(80, 90]</td>\n",
       "      <td>80</td>\n",
       "    </tr>\n",
       "    <tr>\n",
       "      <th>12</th>\n",
       "      <td>(90, 100]</td>\n",
       "      <td>68</td>\n",
       "    </tr>\n",
       "  </tbody>\n",
       "</table>\n",
       "</div>"
      ],
      "text/plain": [
       "   rated_by_user_cat  itemID\n",
       "0              (, 5]    2181\n",
       "1           (10, 20]    2632\n",
       "2         (100, 300]     159\n",
       "3           (20, 30]     870\n",
       "4           (30, 40]     422\n",
       "5         (300, 500]      10\n",
       "6           (40, 50]     240\n",
       "7            (5, 10]    5031\n",
       "8           (50, 60]     181\n",
       "9           (60, 70]     138\n",
       "10          (70, 80]      89\n",
       "11          (80, 90]      80\n",
       "12         (90, 100]      68"
      ]
     },
     "execution_count": 20,
     "metadata": {},
     "output_type": "execute_result"
    }
   ],
   "source": [
    "# get the item rated by the number of users distribution table\n",
    "user_count=pd.DataFrame.from_dict(min_rate_by_users_collection,orient='index')\\\n",
    ".reset_index().rename(columns={'index':'itemID',0: 'rated_by_users'})\n",
    "user_count['rated_by_user_cat'],user_count['rated_by_user_num']=zip(*user_count.apply(to_category,colname='rated_by_users',cate=array_rate_count,axis=1))\n",
    "pd.DataFrame(user_count.groupby(['rated_by_user_cat'])['itemID'].count()).reset_index()"
   ]
  },
  {
   "cell_type": "code",
   "execution_count": 21,
   "metadata": {
    "collapsed": false
   },
   "outputs": [
    {
     "data": {
      "image/png": "[encoded data removed]",
      "text/plain": [
       "<matplotlib.figure.Figure at 0x116f7ca58>"
      ]
     },
     "metadata": {},
     "output_type": "display_data"
    }
   ],
   "source": [
    "plt.hist(user_count['rated_by_user_num'],array_rate_count)\n",
    "plt.title('each item rated by X number of users', fontsize=15)\n",
    "plt.show()"
   ]
  },
  {
   "cell_type": "markdown",
   "metadata": {},
   "source": [
    "### Reduce Sparsity With N-Core"
   ]
  },
  {
   "cell_type": "markdown",
   "metadata": {
    "collapsed": true
   },
   "source": [
    "32% users rated only 5 items and 49% users rated 6 to 10 items. In this notebook, 8 is selected as the threshold for the items and users, i.e. each user should rated at least 8 items and each item should be rated by at least 8 users. Meanwhile, the map between the position index before and after the N-core transformaiton are kept to ensure the traceability of prediction result later."
   ]
  },
  {
   "cell_type": "code",
   "execution_count": 22,
   "metadata": {
    "collapsed": true
   },
   "outputs": [],
   "source": [
    "# modify N-core to add the map between new position to old position\n",
    "def apply_Ncore(ratings, N_core):\n",
    "    n_users = ratings.shape[0]\n",
    "    n_items = ratings.shape[1]\n",
    "    items_id = [x for x in range(n_items) if len(ratings[:, x].nonzero()[0]) >= N_core]\n",
    "    ratings = ratings[:, items_id]\n",
    "    # map the new items position to the old\n",
    "    item_link=list(zip(items_id,range(ratings.shape[1])))\n",
    "    users_id = [x for x in range(n_users) if len(ratings[x, :].nonzero()[0]) >= N_core]\n",
    "    # map the new user posistion to the old\n",
    "    ratings = ratings[users_id, :]\n",
    "    user_link=list(zip(users_id,range(ratings.shape[0])))\n",
    "    return ratings,item_link,user_link"
   ]
  },
  {
   "cell_type": "code",
   "execution_count": 23,
   "metadata": {
    "collapsed": true
   },
   "outputs": [],
   "source": [
    "ratings_Ncore,items_link_Ncore,users_link_Ncore = apply_Ncore(ratings, 8)"
   ]
  },
  {
   "cell_type": "code",
   "execution_count": 24,
   "metadata": {
    "collapsed": false
   },
   "outputs": [
    {
     "name": "stdout",
     "output_type": "stream",
     "text": [
      "After applying the 10-core, there are 6172 users left\n",
      "After applying the 10-core, there are 7129 items left\n",
      "Sparsity: 0.20%\n"
     ]
    }
   ],
   "source": [
    "print(\"After applying the 10-core, there are\", ratings_Ncore.shape[0], \"users left\")\n",
    "print(\"After applying the 10-core, there are\", ratings_Ncore.shape[1], \"items left\")\n",
    "sparsity = float(len(ratings_Ncore.nonzero()[0]))\n",
    "sparsity = (sparsity/(ratings_Ncore.shape[0] * ratings_Ncore.shape[1]))*100\n",
    "print ('Sparsity: {:4.2f}%'.format(sparsity))"
   ]
  },
  {
   "cell_type": "markdown",
   "metadata": {},
   "source": [
    "### Map User/Item Position Back To asin (item ID) and reviewerID (user ID)"
   ]
  },
  {
   "cell_type": "code",
   "execution_count": 11,
   "metadata": {
    "collapsed": false
   },
   "outputs": [
    {
     "data": {
      "text/html": [
       "<div>\n",
       "<style>\n",
       "    .dataframe thead tr:only-child th {\n",
       "        text-align: right;\n",
       "    }\n",
       "\n",
       "    .dataframe thead th {\n",
       "        text-align: left;\n",
       "    }\n",
       "\n",
       "    .dataframe tbody tr th {\n",
       "        vertical-align: top;\n",
       "    }\n",
       "</style>\n",
       "<table border=\"1\" class=\"dataframe\">\n",
       "  <thead>\n",
       "    <tr style=\"text-align: right;\">\n",
       "      <th></th>\n",
       "      <th>overall</th>\n",
       "      <th>helpful</th>\n",
       "      <th>summary</th>\n",
       "      <th>reviewerID</th>\n",
       "      <th>asin</th>\n",
       "      <th>unixReviewTime</th>\n",
       "      <th>reviewerName</th>\n",
       "      <th>reviewText</th>\n",
       "      <th>ReviewID</th>\n",
       "      <th>asin_id</th>\n",
       "      <th>reviewer_ID</th>\n",
       "    </tr>\n",
       "  </thead>\n",
       "  <tbody>\n",
       "    <tr>\n",
       "      <th>145572</th>\n",
       "      <td>3.0</td>\n",
       "      <td>[0, 0]</td>\n",
       "      <td>Three Stars</td>\n",
       "      <td>A00414041RD0BXM6WK0GX</td>\n",
       "      <td>B007IY97U0</td>\n",
       "      <td>2014-07-14</td>\n",
       "      <td>Sarah Hale</td>\n",
       "      <td>Good quality wig, but the blonde is much more ...</td>\n",
       "      <td>145573</td>\n",
       "      <td>9449</td>\n",
       "      <td>0</td>\n",
       "    </tr>\n",
       "    <tr>\n",
       "      <th>152551</th>\n",
       "      <td>2.0</td>\n",
       "      <td>[0, 0]</td>\n",
       "      <td>( After waiting over a month to receive this w...</td>\n",
       "      <td>A00414041RD0BXM6WK0GX</td>\n",
       "      <td>B00870XLDS</td>\n",
       "      <td>2014-07-14</td>\n",
       "      <td>Sarah Hale</td>\n",
       "      <td>Very thin and not as long as the photos :( Aft...</td>\n",
       "      <td>152552</td>\n",
       "      <td>9839</td>\n",
       "      <td>0</td>\n",
       "    </tr>\n",
       "    <tr>\n",
       "      <th>155883</th>\n",
       "      <td>1.0</td>\n",
       "      <td>[0, 0]</td>\n",
       "      <td>( After waiting over a month to receive this w...</td>\n",
       "      <td>A00414041RD0BXM6WK0GX</td>\n",
       "      <td>B008MIRO88</td>\n",
       "      <td>2014-07-14</td>\n",
       "      <td>Sarah Hale</td>\n",
       "      <td>Very thin and not as long as the photos :( Aft...</td>\n",
       "      <td>155884</td>\n",
       "      <td>10076</td>\n",
       "      <td>0</td>\n",
       "    </tr>\n",
       "    <tr>\n",
       "      <th>178477</th>\n",
       "      <td>3.0</td>\n",
       "      <td>[0, 0]</td>\n",
       "      <td>This is a great quality wig</td>\n",
       "      <td>A00414041RD0BXM6WK0GX</td>\n",
       "      <td>B00BQYYMN0</td>\n",
       "      <td>2014-07-14</td>\n",
       "      <td>Sarah Hale</td>\n",
       "      <td>This is a great quality wig, however it is a m...</td>\n",
       "      <td>178478</td>\n",
       "      <td>11155</td>\n",
       "      <td>0</td>\n",
       "    </tr>\n",
       "    <tr>\n",
       "      <th>188781</th>\n",
       "      <td>5.0</td>\n",
       "      <td>[0, 0]</td>\n",
       "      <td>This is my absolute favorite wig! I have purch...</td>\n",
       "      <td>A00414041RD0BXM6WK0GX</td>\n",
       "      <td>B00GRTQBTM</td>\n",
       "      <td>2014-07-14</td>\n",
       "      <td>Sarah Hale</td>\n",
       "      <td>This is my absolute favorite wig! I have purch...</td>\n",
       "      <td>188782</td>\n",
       "      <td>11752</td>\n",
       "      <td>0</td>\n",
       "    </tr>\n",
       "  </tbody>\n",
       "</table>\n",
       "</div>"
      ],
      "text/plain": [
       "        overall helpful                                            summary  \\\n",
       "145572      3.0  [0, 0]                                        Three Stars   \n",
       "152551      2.0  [0, 0]  ( After waiting over a month to receive this w...   \n",
       "155883      1.0  [0, 0]  ( After waiting over a month to receive this w...   \n",
       "178477      3.0  [0, 0]                        This is a great quality wig   \n",
       "188781      5.0  [0, 0]  This is my absolute favorite wig! I have purch...   \n",
       "\n",
       "                   reviewerID        asin unixReviewTime reviewerName  \\\n",
       "145572  A00414041RD0BXM6WK0GX  B007IY97U0     2014-07-14   Sarah Hale   \n",
       "152551  A00414041RD0BXM6WK0GX  B00870XLDS     2014-07-14   Sarah Hale   \n",
       "155883  A00414041RD0BXM6WK0GX  B008MIRO88     2014-07-14   Sarah Hale   \n",
       "178477  A00414041RD0BXM6WK0GX  B00BQYYMN0     2014-07-14   Sarah Hale   \n",
       "188781  A00414041RD0BXM6WK0GX  B00GRTQBTM     2014-07-14   Sarah Hale   \n",
       "\n",
       "                                               reviewText  ReviewID  asin_id  \\\n",
       "145572  Good quality wig, but the blonde is much more ...    145573     9449   \n",
       "152551  Very thin and not as long as the photos :( Aft...    152552     9839   \n",
       "155883  Very thin and not as long as the photos :( Aft...    155884    10076   \n",
       "178477  This is a great quality wig, however it is a m...    178478    11155   \n",
       "188781  This is my absolute favorite wig! I have purch...    188782    11752   \n",
       "\n",
       "        reviewer_ID  \n",
       "145572            0  \n",
       "152551            0  \n",
       "155883            0  \n",
       "178477            0  \n",
       "188781            0  "
      ]
     },
     "execution_count": 11,
     "metadata": {},
     "output_type": "execute_result"
    }
   ],
   "source": [
    "df.head()"
   ]
  },
  {
   "cell_type": "code",
   "execution_count": 25,
   "metadata": {
    "collapsed": true
   },
   "outputs": [],
   "source": [
    "df['reviewerID_Ncore']=df['reviewer_ID'].map(dict(users_link_Ncore))\n",
    "df['asinID_Ncore']=df['asin_id'].map(dict(items_link_Ncore))\n",
    "item_map_afterNcore=df[['asinID_Ncore','asin']].drop_duplicates(keep='first')\n",
    "user_map_afterNcore=df[['reviewerID_Ncore','reviewerID']].drop_duplicates(keep='first')"
   ]
  },
  {
   "cell_type": "code",
   "execution_count": 26,
   "metadata": {
    "collapsed": false
   },
   "outputs": [
    {
     "data": {
      "text/html": [
       "<div>\n",
       "<style>\n",
       "    .dataframe thead tr:only-child th {\n",
       "        text-align: right;\n",
       "    }\n",
       "\n",
       "    .dataframe thead th {\n",
       "        text-align: left;\n",
       "    }\n",
       "\n",
       "    .dataframe tbody tr th {\n",
       "        vertical-align: top;\n",
       "    }\n",
       "</style>\n",
       "<table border=\"1\" class=\"dataframe\">\n",
       "  <thead>\n",
       "    <tr style=\"text-align: right;\">\n",
       "      <th></th>\n",
       "      <th>reviewerID_Ncore</th>\n",
       "      <th>reviewerID</th>\n",
       "    </tr>\n",
       "  </thead>\n",
       "  <tbody>\n",
       "    <tr>\n",
       "      <th>22693</th>\n",
       "      <td>1.0</td>\n",
       "      <td>A03364251DGXSGA9PSR99</td>\n",
       "    </tr>\n",
       "  </tbody>\n",
       "</table>\n",
       "</div>"
      ],
      "text/plain": [
       "       reviewerID_Ncore             reviewerID\n",
       "22693               1.0  A03364251DGXSGA9PSR99"
      ]
     },
     "execution_count": 26,
     "metadata": {},
     "output_type": "execute_result"
    }
   ],
   "source": [
    "user_map_afterNcore.loc[user_map_afterNcore['reviewerID_Ncore']==1]"
   ]
  },
  {
   "cell_type": "code",
   "execution_count": 27,
   "metadata": {
    "collapsed": false
   },
   "outputs": [
    {
     "data": {
      "text/html": [
       "<div>\n",
       "<style>\n",
       "    .dataframe thead tr:only-child th {\n",
       "        text-align: right;\n",
       "    }\n",
       "\n",
       "    .dataframe thead th {\n",
       "        text-align: left;\n",
       "    }\n",
       "\n",
       "    .dataframe tbody tr th {\n",
       "        vertical-align: top;\n",
       "    }\n",
       "</style>\n",
       "<table border=\"1\" class=\"dataframe\">\n",
       "  <thead>\n",
       "    <tr style=\"text-align: right;\">\n",
       "      <th></th>\n",
       "      <th>reviewerID</th>\n",
       "      <th>asin</th>\n",
       "      <th>reviewer_ID</th>\n",
       "      <th>reviewerID_Ncore</th>\n",
       "      <th>asin_id</th>\n",
       "      <th>asinID_Ncore</th>\n",
       "    </tr>\n",
       "  </thead>\n",
       "  <tbody>\n",
       "    <tr>\n",
       "      <th>3539</th>\n",
       "      <td>A099766128UI0NCS98N1E</td>\n",
       "      <td>B00008MOQE</td>\n",
       "      <td>29</td>\n",
       "      <td>4.0</td>\n",
       "      <td>184</td>\n",
       "      <td>123.0</td>\n",
       "    </tr>\n",
       "    <tr>\n",
       "      <th>6806</th>\n",
       "      <td>A099766128UI0NCS98N1E</td>\n",
       "      <td>B0001TOH8G</td>\n",
       "      <td>29</td>\n",
       "      <td>4.0</td>\n",
       "      <td>359</td>\n",
       "      <td>237.0</td>\n",
       "    </tr>\n",
       "    <tr>\n",
       "      <th>11638</th>\n",
       "      <td>A099766128UI0NCS98N1E</td>\n",
       "      <td>B0007W1R58</td>\n",
       "      <td>29</td>\n",
       "      <td>4.0</td>\n",
       "      <td>687</td>\n",
       "      <td>440.0</td>\n",
       "    </tr>\n",
       "    <tr>\n",
       "      <th>42136</th>\n",
       "      <td>A099766128UI0NCS98N1E</td>\n",
       "      <td>B0012UEJ1S</td>\n",
       "      <td>29</td>\n",
       "      <td>4.0</td>\n",
       "      <td>2846</td>\n",
       "      <td>1644.0</td>\n",
       "    </tr>\n",
       "    <tr>\n",
       "      <th>66990</th>\n",
       "      <td>A099766128UI0NCS98N1E</td>\n",
       "      <td>B001YTD3G4</td>\n",
       "      <td>29</td>\n",
       "      <td>4.0</td>\n",
       "      <td>4562</td>\n",
       "      <td>2622.0</td>\n",
       "    </tr>\n",
       "    <tr>\n",
       "      <th>92722</th>\n",
       "      <td>A099766128UI0NCS98N1E</td>\n",
       "      <td>B003OIPJZ6</td>\n",
       "      <td>29</td>\n",
       "      <td>4.0</td>\n",
       "      <td>6250</td>\n",
       "      <td>3599.0</td>\n",
       "    </tr>\n",
       "    <tr>\n",
       "      <th>93742</th>\n",
       "      <td>A099766128UI0NCS98N1E</td>\n",
       "      <td>B003RF82UK</td>\n",
       "      <td>29</td>\n",
       "      <td>4.0</td>\n",
       "      <td>6310</td>\n",
       "      <td>3636.0</td>\n",
       "    </tr>\n",
       "    <tr>\n",
       "      <th>103137</th>\n",
       "      <td>A099766128UI0NCS98N1E</td>\n",
       "      <td>B0048KSGZO</td>\n",
       "      <td>29</td>\n",
       "      <td>4.0</td>\n",
       "      <td>6902</td>\n",
       "      <td>4001.0</td>\n",
       "    </tr>\n",
       "    <tr>\n",
       "      <th>103757</th>\n",
       "      <td>A099766128UI0NCS98N1E</td>\n",
       "      <td>B004AGM47C</td>\n",
       "      <td>29</td>\n",
       "      <td>4.0</td>\n",
       "      <td>6943</td>\n",
       "      <td>NaN</td>\n",
       "    </tr>\n",
       "    <tr>\n",
       "      <th>104465</th>\n",
       "      <td>A099766128UI0NCS98N1E</td>\n",
       "      <td>B004BCX8B6</td>\n",
       "      <td>29</td>\n",
       "      <td>4.0</td>\n",
       "      <td>6992</td>\n",
       "      <td>4056.0</td>\n",
       "    </tr>\n",
       "    <tr>\n",
       "      <th>106531</th>\n",
       "      <td>A099766128UI0NCS98N1E</td>\n",
       "      <td>B004DIUWAI</td>\n",
       "      <td>29</td>\n",
       "      <td>4.0</td>\n",
       "      <td>7116</td>\n",
       "      <td>4134.0</td>\n",
       "    </tr>\n",
       "    <tr>\n",
       "      <th>122013</th>\n",
       "      <td>A099766128UI0NCS98N1E</td>\n",
       "      <td>B005BDO4TY</td>\n",
       "      <td>29</td>\n",
       "      <td>4.0</td>\n",
       "      <td>8121</td>\n",
       "      <td>4701.0</td>\n",
       "    </tr>\n",
       "    <tr>\n",
       "      <th>127276</th>\n",
       "      <td>A099766128UI0NCS98N1E</td>\n",
       "      <td>B005OU2Y1E</td>\n",
       "      <td>29</td>\n",
       "      <td>4.0</td>\n",
       "      <td>8470</td>\n",
       "      <td>NaN</td>\n",
       "    </tr>\n",
       "    <tr>\n",
       "      <th>138692</th>\n",
       "      <td>A099766128UI0NCS98N1E</td>\n",
       "      <td>B006OHM542</td>\n",
       "      <td>29</td>\n",
       "      <td>4.0</td>\n",
       "      <td>9030</td>\n",
       "      <td>5239.0</td>\n",
       "    </tr>\n",
       "    <tr>\n",
       "      <th>154090</th>\n",
       "      <td>A099766128UI0NCS98N1E</td>\n",
       "      <td>B008CEDY5O</td>\n",
       "      <td>29</td>\n",
       "      <td>4.0</td>\n",
       "      <td>9946</td>\n",
       "      <td>5770.0</td>\n",
       "    </tr>\n",
       "    <tr>\n",
       "      <th>164953</th>\n",
       "      <td>A099766128UI0NCS98N1E</td>\n",
       "      <td>B009YVCSYM</td>\n",
       "      <td>29</td>\n",
       "      <td>4.0</td>\n",
       "      <td>10544</td>\n",
       "      <td>6127.0</td>\n",
       "    </tr>\n",
       "  </tbody>\n",
       "</table>\n",
       "</div>"
      ],
      "text/plain": [
       "                   reviewerID        asin  reviewer_ID  reviewerID_Ncore  \\\n",
       "3539    A099766128UI0NCS98N1E  B00008MOQE           29               4.0   \n",
       "6806    A099766128UI0NCS98N1E  B0001TOH8G           29               4.0   \n",
       "11638   A099766128UI0NCS98N1E  B0007W1R58           29               4.0   \n",
       "42136   A099766128UI0NCS98N1E  B0012UEJ1S           29               4.0   \n",
       "66990   A099766128UI0NCS98N1E  B001YTD3G4           29               4.0   \n",
       "92722   A099766128UI0NCS98N1E  B003OIPJZ6           29               4.0   \n",
       "93742   A099766128UI0NCS98N1E  B003RF82UK           29               4.0   \n",
       "103137  A099766128UI0NCS98N1E  B0048KSGZO           29               4.0   \n",
       "103757  A099766128UI0NCS98N1E  B004AGM47C           29               4.0   \n",
       "104465  A099766128UI0NCS98N1E  B004BCX8B6           29               4.0   \n",
       "106531  A099766128UI0NCS98N1E  B004DIUWAI           29               4.0   \n",
       "122013  A099766128UI0NCS98N1E  B005BDO4TY           29               4.0   \n",
       "127276  A099766128UI0NCS98N1E  B005OU2Y1E           29               4.0   \n",
       "138692  A099766128UI0NCS98N1E  B006OHM542           29               4.0   \n",
       "154090  A099766128UI0NCS98N1E  B008CEDY5O           29               4.0   \n",
       "164953  A099766128UI0NCS98N1E  B009YVCSYM           29               4.0   \n",
       "\n",
       "        asin_id  asinID_Ncore  \n",
       "3539        184         123.0  \n",
       "6806        359         237.0  \n",
       "11638       687         440.0  \n",
       "42136      2846        1644.0  \n",
       "66990      4562        2622.0  \n",
       "92722      6250        3599.0  \n",
       "93742      6310        3636.0  \n",
       "103137     6902        4001.0  \n",
       "103757     6943           NaN  \n",
       "104465     6992        4056.0  \n",
       "106531     7116        4134.0  \n",
       "122013     8121        4701.0  \n",
       "127276     8470           NaN  \n",
       "138692     9030        5239.0  \n",
       "154090     9946        5770.0  \n",
       "164953    10544        6127.0  "
      ]
     },
     "execution_count": 27,
     "metadata": {},
     "output_type": "execute_result"
    }
   ],
   "source": [
    "#check for whether the item id is linked back correctly to asin\n",
    "df.loc[df['reviewerID']=='A099766128UI0NCS98N1E',['reviewerID','asin','reviewer_ID','reviewerID_Ncore','asin_id','asinID_Ncore']]"
   ]
  },
  {
   "cell_type": "markdown",
   "metadata": {},
   "source": [
    "### Split into Training and Test "
   ]
  },
  {
   "cell_type": "markdown",
   "metadata": {},
   "source": [
    "Different from other entry-wise training test spliting, we split the data set by poping out N items bought by each users in the 8-core matrix into a test set and keep the rest in the training set. This training-test split increased the sparsity of the training set."
   ]
  },
  {
   "cell_type": "code",
   "execution_count": 28,
   "metadata": {
    "collapsed": true
   },
   "outputs": [],
   "source": [
    "def train_test_split_userwise(ratings,num_test=5):\n",
    "    test = np.zeros(ratings.shape)\n",
    "    train = ratings.copy()\n",
    "    nonzero_id=np.transpose(np.array([ratings.nonzero()[0].tolist(),ratings.nonzero()[1].tolist()]))\n",
    "    index=pd.DataFrame(nonzero_id,columns=['row','col'])\n",
    "    gps =index.groupby(['row'])\n",
    "    randx = lambda obj: obj.loc[np.random.choice(obj.index, num_test, False),:]\n",
    "    test_ratings=gps.apply(randx).values.transpose()\n",
    "    test_ratings_row=test_ratings[0].tolist()\n",
    "    test_ratings_col=test_ratings[1].tolist()\n",
    "    train[test_ratings_row,test_ratings_col] = 0.\n",
    "    test[test_ratings_row,test_ratings_col] = ratings[test_ratings_row,test_ratings_col]   \n",
    "    assert(np.all((train * test) == 0)) \n",
    "    return train, test"
   ]
  },
  {
   "cell_type": "code",
   "execution_count": 30,
   "metadata": {
    "collapsed": false
   },
   "outputs": [
    {
     "name": "stdout",
     "output_type": "stream",
     "text": [
      "training dimension:  (6172, 7129)\n",
      "test dimension:  (6172, 7129)\n"
     ]
    }
   ],
   "source": [
    "train_Ncore_user, test_Ncore_user = train_test_split_userwise(ratings_Ncore,num_test=3)\n",
    "# check whether the test dataset has the same shape as the training\n",
    "print('training dimension: ', train_Ncore_user.shape)\n",
    "print('test dimension: ',test_Ncore_user.shape)"
   ]
  },
  {
   "cell_type": "markdown",
   "metadata": {},
   "source": [
    "### Normalization"
   ]
  },
  {
   "cell_type": "markdown",
   "metadata": {},
   "source": [
    "Each user has his/her bias on ratings. Some users tend to give an average rating higher than 3 while others might give an average lower than 3, vice versus for the item rated by users. Thus, the traing and test sets need be normalized if there is no user or item bias adjustment terms in the modeling class. Later on, at the stage of comparing the predicted ratings with the test set and calculate the Mean Square Errors, we should also subtract the normalized test set values from the prediciton trained by normalized training set and deduct the original test set ratings fom the prediction trained based on the training set without normalization."
   ]
  },
  {
   "cell_type": "code",
   "execution_count": 31,
   "metadata": {
    "collapsed": true
   },
   "outputs": [],
   "source": [
    "#user-wise\n",
    "def normalize_userwise(train,test):\n",
    "    user=0\n",
    "    train_new=copy.deepcopy(train)\n",
    "    test_new=copy.deepcopy(test)\n",
    "    for i in range(train_new.shape[0]):\n",
    "        items=np.nonzero(train_new[i,:])[0].tolist()\n",
    "        user_avg=np.sum(train_new[i,items])/len(items)\n",
    "        items_test=np.nonzero(test_new[i,:])[0].tolist()\n",
    "        train_new[i,items]=(train_new[i,items]-user_avg)\n",
    "        test_new[i,items_test]=(test_new[i,items_test]-user_avg)\n",
    "    return train_new, test_new\n",
    "        "
   ]
  },
  {
   "cell_type": "code",
   "execution_count": 32,
   "metadata": {
    "collapsed": true
   },
   "outputs": [],
   "source": [
    "train_Ncore_user_normalized,test_Ncore_user_normalized=normalize_userwise(train_Ncore_user,test_Ncore_user)"
   ]
  },
  {
   "cell_type": "code",
   "execution_count": 33,
   "metadata": {
    "collapsed": false
   },
   "outputs": [
    {
     "name": "stdout",
     "output_type": "stream",
     "text": [
      "average ratings for user 0 in training after normalization:  -7.1054273576e-15\n",
      "average ratings for user 0 in test after normalization:  -3.45\n"
     ]
    }
   ],
   "source": [
    "# check for the output of normaization\n",
    "# user for 0 in training set\n",
    "user_0_trainting_sum=np.sum(train_Ncore_user_normalized[1,[x[1] for x in \\\n",
    "                                       list(zip(np.nonzero(train_Ncore_user_normalized)[0],\\\n",
    "                                            np.nonzero(train_Ncore_user_normalized)[1])) if x[0]==1]])\n",
    "print ('average ratings for user 0 in training after normalization: ', user_0_trainting_sum)\n",
    "\n",
    "# user for 0 in test set\n",
    "user_0_test_sum=np.sum(test_Ncore_user_normalized[1,[x[1] for x in \\\n",
    "                                       list(zip(np.nonzero(test_Ncore_user_normalized)[0],\\\n",
    "                                            np.nonzero(test_Ncore_user_normalized)[1])) if x[0]==1]])\n",
    "print ('average ratings for user 0 in test after normalization: ',user_0_test_sum)"
   ]
  },
  {
   "cell_type": "markdown",
   "metadata": {},
   "source": [
    "### Baseline MSE"
   ]
  },
  {
   "cell_type": "markdown",
   "metadata": {},
   "source": [
    "Before statring training a collaborative filter, we must set a baseline MSE as a flag to compare with. In this notebook, we are going to compute the average ratings on items given by each users in the training set and normalized the non-zero ratings in the test set by subtracting the mean. The Mean Square Error of the normalized test set is the baseline."
   ]
  },
  {
   "cell_type": "code",
   "execution_count": 34,
   "metadata": {
    "collapsed": true
   },
   "outputs": [],
   "source": [
    "def get_mse(pred, actual):\n",
    "    pred = pred[actual.nonzero()[0].tolist(),actual.nonzero()[1].tolist()].flatten()\n",
    "    actual = actual[actual.nonzero()[0].tolist(),actual.nonzero()[1].tolist()].flatten()\n",
    "    mse = mean_squared_error(pred, actual)\n",
    "    return mse"
   ]
  },
  {
   "cell_type": "code",
   "execution_count": 35,
   "metadata": {
    "collapsed": true
   },
   "outputs": [],
   "source": [
    "#baseline\n",
    "def user_baseline(train,test):\n",
    "    user=0\n",
    "    item_sum=0\n",
    "    item_count=0\n",
    "    pred=np.zeros(test.shape)\n",
    "    for i in zip(np.nonzero(train)[0],np.nonzero(train)[1]):\n",
    "        if i[0]==user:\n",
    "            item_sum=train[i[0],i[1]]+item_sum\n",
    "            item_count=item_count+1\n",
    "        if i[0]>user:\n",
    "            item_pos=np.nonzero(test[user,:])[0].tolist()\n",
    "            pred[user,item_pos]=item_sum/item_count\n",
    "            user=user+1\n",
    "            item_sum=0\n",
    "            item_count=0\n",
    "            item_sum=train[i[0],i[1]]+item_sum\n",
    "            item_count=item_count+1\n",
    "    item_pos=np.nonzero(test[user,:])[0].tolist()\n",
    "    pred[user,item_pos]=item_sum/item_count\n",
    "    return pred"
   ]
  },
  {
   "cell_type": "code",
   "execution_count": 36,
   "metadata": {
    "collapsed": false
   },
   "outputs": [
    {
     "name": "stdout",
     "output_type": "stream",
     "text": [
      "baseline MSE without normalization:  1.20399965776\n"
     ]
    }
   ],
   "source": [
    "# baseline without normalization\n",
    "# baseline MSE for Stochastic Gradient Descent\n",
    "user_baseline_withoutN=user_baseline(train_Ncore_user,test_Ncore_user)\n",
    "print ('baseline MSE without normalization: ', get_mse(user_baseline_withoutN,test_Ncore_user))"
   ]
  },
  {
   "cell_type": "code",
   "execution_count": 37,
   "metadata": {
    "collapsed": false
   },
   "outputs": [
    {
     "name": "stdout",
     "output_type": "stream",
     "text": [
      "baseline MSE with normalization:  1.20399965776\n"
     ]
    }
   ],
   "source": [
    "# baseline with normalization\n",
    "# baseline MSE for Alternating Least Square\n",
    "user_baseline_normalized=np.sum(test_Ncore_user_normalized**2)/len(np.nonzero(test_Ncore_user)[0])\n",
    "print ('baseline MSE with normalization: ', user_baseline_normalized)"
   ]
  },
  {
   "cell_type": "markdown",
   "metadata": {},
   "source": [
    "The two baseline MSE are completely same because the two normalization processes above are basically the same: when calculating the MSE without normalization, we first compute the predicted ratings in test by replacing all non-zero values in the matrix with the user-wise average of the training set, and then sum up the square difference between the actual test set and the predicted test ratings and divide the output by the number of non-zero valus in the 8-core matrix (matrix not normalized); when calculating the MSE based on normalized test set, we simply sum up the square of test set normalized by the user-wise mean in training set and divide the total number of non-zero values in the test set (8-core before normalization) as well"
   ]
  },
  {
   "cell_type": "markdown",
   "metadata": {},
   "source": [
    "### Latent Factorized Collaborative Filter By Alternating Least Square "
   ]
  },
  {
   "cell_type": "code",
   "execution_count": 38,
   "metadata": {
    "collapsed": true
   },
   "outputs": [],
   "source": [
    "from numpy.linalg import solve\n",
    "\n",
    "class RecommendationALS():\n",
    "    \n",
    "    def __init__(self, \n",
    "                 ratings, \n",
    "                 n_factors = 10, \n",
    "                 item_reg = 0.0, \n",
    "                 user_reg = 0.0,\n",
    "                 max_iter = 50,\n",
    "                 verbose = True):\n",
    "        \"\"\"\n",
    "        Train a matrix factorization model to predict empty \n",
    "        entries in a matrix. The terminology assumes a \n",
    "        ratings matrix which is ~ user x item\n",
    "        \n",
    "        Params\n",
    "        ======\n",
    "        ratings : (ndarray)\n",
    "            User x Item matrix with corresponding ratings\n",
    "        \n",
    "        n_factors : (int)\n",
    "            Number of latent factors to use in matrix \n",
    "            factorization model\n",
    "        \n",
    "        item_reg : (float)\n",
    "            Regularization term for item latent factors\n",
    "        \n",
    "        user_reg : (float)\n",
    "            Regularization term for user latent factors\n",
    "        \n",
    "        verbose : (bool)\n",
    "            Whether or not to printout training progress\n",
    "        \"\"\"\n",
    "        \n",
    "        self.ratings = ratings\n",
    "        self.n_users, self.n_items = ratings.shape\n",
    "        self.n_factors = n_factors\n",
    "        self.item_reg = item_reg\n",
    "        self.user_reg = user_reg\n",
    "        self._v = verbose\n",
    "        self.n_iter = max_iter\n",
    "\n",
    "    def als_step(self,\n",
    "                 latent_vectors,\n",
    "                 fixed_vecs,\n",
    "                 ratings,\n",
    "                 _lambda,\n",
    "                 type = 'user'):\n",
    "        \"\"\"\n",
    "        One of the two ALS steps. Solve for the latent vectors\n",
    "        specified by type.\n",
    "        \"\"\"\n",
    "        \n",
    "        if type == 'user':\n",
    "            # fix item vector and solve for the user vector\n",
    "            YTY = fixed_vecs.T.dot(fixed_vecs)\n",
    "            lambdaI = np.eye(YTY.shape[0]) * _lambda\n",
    "            \n",
    "            for u in range(latent_vectors.shape[0]):\n",
    "                latent_vectors[u, :] = solve((YTY + lambdaI), ratings[u, :].dot(fixed_vecs))\n",
    "            \n",
    "            \n",
    "        elif type == 'item':\n",
    "            # fix user vector and solve for the item vector\n",
    "            XTX = fixed_vecs.T.dot(fixed_vecs)\n",
    "            lambdaI = np.eye(XTX.shape[0]) * _lambda\n",
    "            \n",
    "            for i in range(latent_vectors.shape[0]):\n",
    "                latent_vectors[i, :] = solve((XTX + lambdaI), ratings[:, i].T.dot(fixed_vecs))\n",
    "        return latent_vectors\n",
    "\n",
    "    \n",
    "    def fit(self):\n",
    "        \"\"\" \n",
    "        Train model for n_iter iterations.\n",
    "        \"\"\"\n",
    "        ctr = 1\n",
    "        self.user_vecs = np.random.random((self.n_users, self.n_factors))\n",
    "        self.item_vecs = np.random.random((self.n_items, self.n_factors))\n",
    "        \n",
    "        while ctr <= self.n_iter:\n",
    "            if ctr % 10 == 0 and self._v:\n",
    "                print ('\\tcurrent iteration: {}'.format(ctr))\n",
    "            \n",
    "            # alternative least square\n",
    "            self.user_vecs = self.als_step(self.user_vecs, \n",
    "                                           self.item_vecs, \n",
    "                                           self.ratings, \n",
    "                                           self.user_reg, \n",
    "                                           type = 'user')\n",
    "            \n",
    "            self.item_vecs = self.als_step(self.item_vecs, \n",
    "                                           self.user_vecs, \n",
    "                                           self.ratings, \n",
    "                                           self.item_reg, \n",
    "                                           type = 'item')\n",
    "            ctr += 1\n",
    "        \n",
    "        \n",
    "        return (self.user_vecs, self.item_vecs)\n",
    "    \n",
    "    def calculate_mse(self, test):\n",
    "        vecs = self.fit()\n",
    "        user_vecs = vecs[0]\n",
    "        item_vecs = vecs[1]\n",
    "        \n",
    "        predictions = np.zeros((user_vecs.shape[0], item_vecs.shape[0]))\n",
    "        for u in range(user_vecs.shape[0]):\n",
    "            for i in range(item_vecs.shape[0]):\n",
    "                predictions[u, i] = user_vecs[u, :].dot(item_vecs[i, :].T)\n",
    "                \n",
    "        self.train_mse = get_mse(predictions, self.ratings)\n",
    "        self.test_mse = get_mse(predictions, test)\n",
    "        return (self.train_mse, self.test_mse)"
   ]
  },
  {
   "cell_type": "markdown",
   "metadata": {},
   "source": [
    "Since we don't add any bias terms within the __RecommendationALS__ class, we must load a normalized user-items rating matrix into the class and compute the MSE by subtracting the normalized test set from the predicted test set to correct the user bias in ratings. <br>\n",
    "_Note: Only rated items participates the computation of MSE. _"
   ]
  },
  {
   "cell_type": "markdown",
   "metadata": {},
   "source": [
    "#### Tune Epoch"
   ]
  },
  {
   "cell_type": "code",
   "execution_count": 39,
   "metadata": {
    "collapsed": true
   },
   "outputs": [],
   "source": [
    "out = [ RecommendationALS(ratings = train_Ncore_user_normalized, \n",
    "                  n_factors = 20,\n",
    "                  item_reg = 2.0,\n",
    "                  user_reg = 2.0,\n",
    "                  max_iter = x,\n",
    "                  verbose = False).calculate_mse(test = test_Ncore_user_normalized) for x in [10,20,30,40,50]]"
   ]
  },
  {
   "cell_type": "code",
   "execution_count": 40,
   "metadata": {
    "collapsed": false
   },
   "outputs": [
    {
     "name": "stdout",
     "output_type": "stream",
     "text": [
      "MSE on Training with  10  Iterations: 0.940236\n",
      "MSE on Test with  10  Iterations: 1.365234\n",
      "MSE on Training with  20  Iterations: 0.940643\n",
      "MSE on Test with  20  Iterations: 1.365351\n",
      "MSE on Training with  30  Iterations: 0.940776\n",
      "MSE on Test with  30  Iterations: 1.365422\n",
      "MSE on Training with  40  Iterations: 0.941316\n",
      "MSE on Test with  40  Iterations: 1.364989\n",
      "MSE on Training with  50  Iterations: 0.941135\n",
      "MSE on Test with  50  Iterations: 1.364932\n"
     ]
    }
   ],
   "source": [
    "for i,v in enumerate([10,20,30,40,50]):\n",
    "    print (\"MSE on Training with \", v, \" Iterations: {:4.6f}\".format(out[i][0]))\n",
    "    print (\"MSE on Test with \", v, \" Iterations: {:4.6f}\".format(out[i][1]))"
   ]
  },
  {
   "cell_type": "code",
   "execution_count": 41,
   "metadata": {
    "collapsed": false
   },
   "outputs": [
    {
     "data": {
      "image/png": "[encoded data removed]",
      "text/plain": [
       "<matplotlib.figure.Figure at 0x11512b978>"
      ]
     },
     "metadata": {},
     "output_type": "display_data"
    }
   ],
   "source": [
    "plt.plot([10,20,30,40,50], [i[0] for i in out], \\\n",
    "             label = 'Training', linewidth=5)\n",
    "plt.plot([10,20,30,40,50], [i[1] for i in out], \\\n",
    "             label = 'Test', linewidth=5)\n",
    "\n",
    "plt.xticks(fontsize = 12);\n",
    "plt.yticks(fontsize = 12);\n",
    "plt.xlabel('iteration', fontsize = 12);\n",
    "plt.ylabel('MSE', fontsize = 12);\n",
    "plt.legend(loc = 'best', fontsize = 12);"
   ]
  },
  {
   "cell_type": "markdown",
   "metadata": {},
   "source": [
    "The MSE on the test set is almost flat along with the increment in iterations. Thus, we select 10 iterations when tuning the number of latent factors."
   ]
  },
  {
   "cell_type": "markdown",
   "metadata": {},
   "source": [
    "#### Tune Number of Latent Factors "
   ]
  },
  {
   "cell_type": "code",
   "execution_count": 42,
   "metadata": {
    "collapsed": true
   },
   "outputs": [],
   "source": [
    "out2 = [ RecommendationALS(ratings = train_Ncore_user_normalized, \n",
    "                  n_factors = x,\n",
    "                  item_reg = 2.0,\n",
    "                  user_reg = 2.0,\n",
    "                  max_iter = 10,\n",
    "                  verbose = False).calculate_mse(test = test_Ncore_user_normalized) for x in [5,10,15,20,25]]"
   ]
  },
  {
   "cell_type": "code",
   "execution_count": 43,
   "metadata": {
    "collapsed": false
   },
   "outputs": [
    {
     "name": "stdout",
     "output_type": "stream",
     "text": [
      "MSE on Training with  5  Latent Factors: 0.998922\n",
      "MSE on Test with  5  Latent Factors: 1.364923\n",
      "MSE on Training with  10  Latent Factors: 0.976140\n",
      "MSE on Test with  10  Latent Factors: 1.364555\n",
      "MSE on Training with  15  Latent Factors: 0.957244\n",
      "MSE on Test with  15  Latent Factors: 1.365666\n",
      "MSE on Training with  20  Latent Factors: 0.940539\n",
      "MSE on Test with  20  Latent Factors: 1.365656\n",
      "MSE on Training with  25  Latent Factors: 0.925581\n",
      "MSE on Test with  25  Latent Factors: 1.365022\n"
     ]
    }
   ],
   "source": [
    "for i,v in enumerate([5,10,15,20,25]):\n",
    "    print (\"MSE on Training with \", v, \" Latent Factors: {:4.6f}\".format(out2[i][0]))\n",
    "    print (\"MSE on Test with \", v, \" Latent Factors: {:4.6f}\".format(out2[i][1]))"
   ]
  },
  {
   "cell_type": "code",
   "execution_count": 44,
   "metadata": {
    "collapsed": false
   },
   "outputs": [
    {
     "data": {
      "image/png": "[encoded data removed]",
      "text/plain": [
       "<matplotlib.figure.Figure at 0x1155b2208>"
      ]
     },
     "metadata": {},
     "output_type": "display_data"
    }
   ],
   "source": [
    "plt.plot([5,10,15,20,25], [i[0] for i in out2], \\\n",
    "             label = 'Training', linewidth=5)\n",
    "plt.plot([5,10,15,20,25], [i[1] for i in out2], \\\n",
    "             label = 'Test', linewidth=5)\n",
    "\n",
    "plt.xticks(fontsize = 12);\n",
    "plt.yticks(fontsize = 12);\n",
    "plt.xlabel('Latent Factors', fontsize = 12);\n",
    "plt.ylabel('MSE', fontsize = 12);\n",
    "plt.legend(loc = 'best', fontsize = 12);"
   ]
  },
  {
   "cell_type": "markdown",
   "metadata": {},
   "source": [
    "According to the two graphs above, there is no significate improvement in MSE on the test set with change in the number of latent factors and iterations. The collaborative filter with alternating least square seems having worse performance than the baseline. This output might result from two caveats: (1) the user-item ratings training matrix is highly sparse (lower than 0.2% after split), which leads to too much randomness on the baseline MSE; (2) the training set is not normalized item-wisely."
   ]
  },
  {
   "cell_type": "markdown",
   "metadata": {},
   "source": [
    "### Latent Factorized Collaborative Filter By Stochastic Gradient Descent"
   ]
  },
  {
   "cell_type": "markdown",
   "metadata": {},
   "source": [
    "We did three enhancement in the following Stochastic Gradient Descent Factorized Collaborative:<br>\n",
    "* Add user bias and item bias to the model\n",
    "* Apply mini-batch to updating the gradient descent\n",
    "* Add pre cut-off on the iteration when percentage change on the MSE between epoches is lower than the threshold<br>\n",
    "\n",
    "By adding user bias and item bias to the model, we re-write the loss function as\n",
    "<br>\n",
    "$$ \\sum_{u,i}{(r_{u,i}-(\\mu+b_u+b_i+x_u^{T}\\cdot y_i))^{2}}+\\lambda_{xb}\\sum_{u}\\lVert b_u\\rVert^{2}+\\lambda_{yb}\\sum_{i}\\lVert b_i\\rVert^{2}+\\lambda_{xf}\\sum_{u}\\lVert x_u\\rVert^{2}+\\lambda_{yf}\\sum_{i}\\lVert y_i\\rVert^{2}  $$  \n",
    "\n",
    "where $r_{u,i}$ is the actual ratings, $_{u}$, $_{i}$ and $_{f}$ are the number of users, items and latent factors, $ x_u$ and $y_i$ are the $_{u}$ $\\times$ $_{f}$ latent factors matrix and $_{i}$ $\\times$ $_{f}$ latent factor matrix, $b_u$ and $b_i$ are the user bias vector and the item bias vector in the length of $_{u}$ and $_{i}$ respectively, and $\\lambda_{xb}, \\lambda_{yb}, \\lambda_{xf}$ and $\\lambda_{yf} $ are the regularization terms applied on both latent factors and bias. $\\mu$ is the global bias.\n",
    "<br>\n",
    "The following is the predicted rating of a user to a specific item:\n",
    "$$\\hat{r_{u,i}}= \\mu+b_u+b_i+x_u^{T}\\cdot y_i   $$   \n",
    "\n",
    "Due to the user and item bias applied on the following model, we should load the non-normalized training data set into the Stochastic Gradient Descent Collaborative Filter and compute the MSE by subtracting the non-normalized test set from the prediction as well."
   ]
  },
  {
   "cell_type": "code",
   "execution_count": 18,
   "metadata": {
    "collapsed": true
   },
   "outputs": [],
   "source": [
    "class RecommendationSGD_Random():\n",
    "    \n",
    "    def __init__(self, \n",
    "                 ratings, \n",
    "                 n_factors = 10, \n",
    "                 item_reg = 1.0, \n",
    "                 user_reg = 1.0,\n",
    "                 item_bias_reg = 1.0,\n",
    "                 user_bias_reg = 1.0,\n",
    "                 max_iter = 15,\n",
    "                 batch_size=3,\n",
    "                 learning_rate = 0.01,\n",
    "                 tolerance=0.0001,\n",
    "                 verbose = True):\n",
    "        \"\"\"\n",
    "        Train a matrix factorization model to predict empty \n",
    "        entries in a matrix. The terminology assumes a \n",
    "        ratings matrix which is ~ user x item\n",
    "        \n",
    "        Params\n",
    "        ======\n",
    "        ratings : (ndarray)\n",
    "            User x Item matrix with corresponding ratings\n",
    "        \n",
    "        n_factors : (int)\n",
    "            Number of latent factors to use in matrix \n",
    "            factorization model\n",
    "        \n",
    "        item_reg : (float)\n",
    "            Regularization term for item latent factors\n",
    "        \n",
    "        user_reg : (float)\n",
    "            Regularization term for user latent factors\n",
    "        \n",
    "        item_bias_reg : (float)\n",
    "            Item bias for item latent factors, shape as number of items *1\n",
    "        \n",
    "        user_bias_reg : (float)\n",
    "            User bias for user latent factors, shape as number of users *1\n",
    "            \n",
    "        max_iter: (int)\n",
    "            Max number of epoch\n",
    "        \n",
    "        batch_size: (int)\n",
    "            number of rows input each time to update the gradient\n",
    "        \n",
    "        learning_rate: (float)\n",
    "            learning rate of latent factors and bias\n",
    "        \n",
    "        tolerance: (float)\n",
    "            cut-off on iterations when percange change in loss function lower to the value\n",
    "            \n",
    "        verbose : (bool)\n",
    "            Whether or not to printout training progress\n",
    "        \"\"\"\n",
    "        \n",
    "        self.ratings = ratings\n",
    "        self.n_users, self.n_items = ratings.shape\n",
    "        self.n_factors = n_factors\n",
    "        self.item_reg = item_reg\n",
    "        self.user_reg = user_reg\n",
    "        \n",
    "        self.item_bias_reg = item_bias_reg\n",
    "        self.user_bias_reg = user_bias_reg\n",
    "        self.learning_rate = learning_rate\n",
    "        self.sample_row, self.sample_col = self.ratings.nonzero()\n",
    "        self.n_samples = len(self.sample_row)\n",
    "        self.batch_size=batch_size\n",
    "        self._v = verbose\n",
    "        self.n_iter = max_iter\n",
    "        self.MSE=[]\n",
    "        self.tolerance=0-tolerance\n",
    "\n",
    "    \n",
    "    def fit(self):\n",
    "        \"\"\" \n",
    "        Train model\n",
    "        \"\"\"       \n",
    "        self.ratings_zero=np.zeros(self.ratings.shape)\n",
    "        self.user_vecs = np.random.random((self.n_users, self.n_factors))\n",
    "        self.item_vecs = np.random.random((self.n_items, self.n_factors))\n",
    "        \n",
    "        self.user_bias = np.zeros(self.n_users)\n",
    "        self.item_bias = np.zeros(self.n_items)\n",
    "        self.global_bias = np.mean(self.ratings[np.where(self.ratings != 0)])\n",
    "        \n",
    "        ctr = 1\n",
    "        while ctr <= self.n_iter:\n",
    "            if ctr % 10 == 0 :\n",
    "                print ('\\tcurrent iteration: {}'.format(ctr))\n",
    "            \n",
    "            if ctr>1:\n",
    "                # predict the ratings by applying the vectorized prediction forluma\n",
    "                ratings_pred=self.user_bias[:,np.newaxis]+self.item_bias[np.newaxis,:]+self.global_bias+self.user_vecs.dot(self.item_vecs.T)\n",
    "                ratings_pred=np.nan_to_num(ratings_pred)\n",
    "                \n",
    "                self.MSE.append(get_mse(ratings_pred, self.ratings))\n",
    "                if self._v:\n",
    "                    print (self.MSE[-1])\n",
    "            if len(self.MSE)>1:\n",
    "                # set the tolerance on the difference in MSE, cut-off the iteration when the difference is less than tolerance\n",
    "                if self.MSE[-1]<self.MSE[-2] and (self.MSE[-1]-self.MSE[-2])/self.MSE[-2]>self.tolerance:\n",
    "                    return (self.user_vecs, self.item_vecs, self.user_bias, self.item_bias, self.global_bias)\n",
    "            # one sample SGD\n",
    "            self.training_indices = np.arange(self.n_samples)\n",
    "            np.random.shuffle(self.training_indices)\n",
    "            \n",
    "            for start_idx in range(0, self.n_samples - self.batch_size + 1, self.batch_size):\n",
    "                idx = self.training_indices[start_idx:start_idx + self.batch_size]\n",
    "                u = self.sample_row[idx]\n",
    "                i = self.sample_col[idx]\n",
    "                \n",
    "                # error\n",
    "                e = [self.ratings[a,b] - self.predict(a,b) for a,b in zip(u,i)]\n",
    "                \n",
    "                # update biases\n",
    "                self.user_bias[u] += self.learning_rate * (e - self.user_bias_reg * self.user_bias[u])\n",
    "                self.item_bias[i] += self.learning_rate * (e - self.item_bias_reg * self.item_bias[i])\n",
    "                \n",
    "                # update latent factors\n",
    "                self.user_vecs[u, :] = [self.user_vecs[u, :][x] + self.learning_rate * (e[x] * self.item_vecs[i, :][x] - self.user_reg * self.user_vecs[u,:][x]) for x in range(self.batch_size)]          \n",
    "                self.item_vecs[i, :] = [self.item_vecs[i, :][x] + self.learning_rate * (e[x] * self.user_vecs[u, :][x] - self.item_reg * self.item_vecs[i,:][x]) for x in range(self.batch_size)]\n",
    "                \n",
    "            ctr += 1\n",
    "        \n",
    "        \n",
    "        return (self.user_vecs, self.item_vecs, self.user_bias, self.item_bias, self.global_bias)\n",
    "    \n",
    "    def predict(self, u, i):\n",
    "        prediction = self.global_bias + self.user_bias[u] + self.item_bias[i]\n",
    "        prediction += self.user_vecs[u, :].dot(self.item_vecs[i, :].T)\n",
    "        prediction=np.nan_to_num(prediction)\n",
    "        return prediction\n",
    "    \n",
    "    def get_prediction(self):\n",
    "        vecs = self.fit()\n",
    "        user_vecs = vecs[0]\n",
    "        item_vecs = vecs[1]\n",
    "        user_bias = vecs[2]\n",
    "        item_bias = vecs[3]\n",
    "        global_bias = vecs[4]\n",
    "        predictions=user_bias[:,np.newaxis]+item_bias[np.newaxis,:]+global_bias+user_vecs.dot(item_vecs.T)\n",
    "        return predictions\n",
    "    "
   ]
  },
  {
   "cell_type": "markdown",
   "metadata": {},
   "source": [
    "#### Tune Epoch"
   ]
  },
  {
   "cell_type": "code",
   "execution_count": 48,
   "metadata": {
    "collapsed": true
   },
   "outputs": [],
   "source": [
    "SGD1=[RecommendationSGD_Random(train_Ncore_user,n_factors = 10,max_iter= x,\n",
    "                 batch_size=50) for x in [10,20,30,40,50]]"
   ]
  },
  {
   "cell_type": "code",
   "execution_count": 49,
   "metadata": {
    "collapsed": false
   },
   "outputs": [
    {
     "name": "stdout",
     "output_type": "stream",
     "text": [
      "1.77318169575\n",
      "1.23166861169\n",
      "1.05099926704\n",
      "0.968663731447\n",
      "0.926090870292\n",
      "0.901682136273\n",
      "0.885491408177\n",
      "0.875460417908\n",
      "\tcurrent iteration: 10\n",
      "0.868497915535\n",
      "1.78675732653\n",
      "1.23714299141\n",
      "1.05246211254\n",
      "0.969993624444\n",
      "0.926473207497\n",
      "0.901073446389\n",
      "0.88527087582\n",
      "0.875374022133\n",
      "\tcurrent iteration: 10\n",
      "0.867564929198\n",
      "0.863709322381\n",
      "0.860029999467\n",
      "0.857018663059\n",
      "0.854964009512\n",
      "0.853807175453\n",
      "0.852808713334\n",
      "0.851690287318\n",
      "0.850958029563\n",
      "0.850906683229\n",
      "1.78021895432\n",
      "1.23467447212\n",
      "1.05234223705\n",
      "0.969845817162\n",
      "0.926494795829\n",
      "0.901321971177\n",
      "0.885392695378\n",
      "0.875301075156\n",
      "\tcurrent iteration: 10\n",
      "0.868380861673\n",
      "0.863194052971\n",
      "0.859918302066\n",
      "0.85723841905\n",
      "0.85485001509\n",
      "0.853754798898\n",
      "0.852850692029\n",
      "0.851790822016\n",
      "0.850882322535\n",
      "0.850776524178\n",
      "\tcurrent iteration: 20\n",
      "0.850341684286\n",
      "0.849809598683\n",
      "0.849493321385\n",
      "0.849658042288\n",
      "0.849318148634\n",
      "0.849522283965\n",
      "0.849961441475\n",
      "0.849734018008\n",
      "0.85001650372\n",
      "0.850210806676\n",
      "\tcurrent iteration: 30\n",
      "0.84979997437\n",
      "1.79024876018\n",
      "1.24074444935\n",
      "1.05439242947\n",
      "0.971698233\n",
      "0.928389479057\n",
      "0.901930309148\n",
      "0.886286524492\n",
      "0.875617040579\n",
      "\tcurrent iteration: 10\n",
      "0.869103914396\n",
      "0.864085388815\n",
      "0.859984212015\n",
      "0.857790985013\n",
      "0.855265639499\n",
      "0.853914371521\n",
      "0.852671105692\n",
      "0.851640735121\n",
      "0.851429942061\n",
      "0.850905738906\n",
      "\tcurrent iteration: 20\n",
      "0.850870532406\n",
      "1.7874763053\n",
      "1.23846907911\n",
      "1.05401734483\n",
      "0.970874505247\n",
      "0.927322815847\n",
      "0.901402212881\n",
      "0.886430815462\n",
      "0.876373649691\n",
      "\tcurrent iteration: 10\n",
      "0.868117765629\n",
      "0.863535837375\n",
      "0.860508774724\n",
      "0.857276621998\n",
      "0.85527689775\n",
      "0.854560579533\n",
      "0.853540714499\n",
      "0.852156028751\n",
      "0.85143431299\n",
      "0.850614935811\n",
      "\tcurrent iteration: 20\n",
      "0.850320455998\n",
      "0.850009579534\n",
      "0.849987255413\n"
     ]
    }
   ],
   "source": [
    "SGD_Pred1=[x.get_prediction() for x in SGD1]"
   ]
  },
  {
   "cell_type": "code",
   "execution_count": 52,
   "metadata": {
    "collapsed": false
   },
   "outputs": [
    {
     "name": "stdout",
     "output_type": "stream",
     "text": [
      "MSE on Training with  10  Iterations: 0.864009\n",
      "MSE on Test with  10  Iterations: 1.163698\n",
      "MSE on Training with  20  Iterations: 0.850907\n",
      "MSE on Test with  20  Iterations: 1.131324\n",
      "MSE on Training with  30  Iterations: 0.850256\n",
      "MSE on Test with  30  Iterations: 1.125190\n",
      "MSE on Training with  40  Iterations: 0.850871\n",
      "MSE on Test with  40  Iterations: 1.130312\n",
      "MSE on Training with  50  Iterations: 0.849987\n",
      "MSE on Test with  50  Iterations: 1.128205\n"
     ]
    }
   ],
   "source": [
    "for i,v in enumerate([10,20,30,40,50]):\n",
    "    print (\"MSE on Training with \", v, \" Iterations: {:4.6f}\".format(get_mse(SGD_Pred1[i],train_Ncore_user)))\n",
    "    print (\"MSE on Test with \", v, \" Iterations: {:4.6f}\".format(get_mse(SGD_Pred1[i],test_Ncore_user)))\n",
    "   "
   ]
  },
  {
   "cell_type": "code",
   "execution_count": 53,
   "metadata": {
    "collapsed": false
   },
   "outputs": [
    {
     "data": {
      "image/png": "[encoded data removed]",
      "text/plain": [
       "<matplotlib.figure.Figure at 0x11aa45630>"
      ]
     },
     "metadata": {},
     "output_type": "display_data"
    }
   ],
   "source": [
    "plt.plot([10,20,30,40,50], [get_mse(i,train_Ncore_user) for i in SGD_Pred1], \\\n",
    "             label = 'Training', linewidth=5)\n",
    "plt.plot([10,20,30,40,50], [get_mse(i,test_Ncore_user) for i in SGD_Pred1], \\\n",
    "             label = 'Test', linewidth=5)\n",
    "\n",
    "plt.xticks(fontsize = 12);\n",
    "plt.yticks(fontsize = 12);\n",
    "plt.xlabel('Iteration', fontsize = 12);\n",
    "plt.ylabel('MSE', fontsize = 12);\n",
    "plt.legend(loc = 'best', fontsize = 12);"
   ]
  },
  {
   "cell_type": "markdown",
   "metadata": {},
   "source": [
    "At the number of latent factor as 10, biggest drop on MSE of the test set occurs between the epochs from 10 to 20. Although MSE reached the lowest at 30 epochs, the difference in MSEs from epoch 20 to 50 don't change too much. Besides, the trainings on Collaborative Filters with 40 and 50 epochs both expirence cut-offs after 20 more iterations. Thus, we select 20 epochs as the number of epoch to optimize both the efficiency in tuning other parameters and the accuracy."
   ]
  },
  {
   "cell_type": "markdown",
   "metadata": {},
   "source": [
    "#### Tune Number of Latent Factors "
   ]
  },
  {
   "cell_type": "code",
   "execution_count": 236,
   "metadata": {
    "collapsed": true
   },
   "outputs": [],
   "source": [
    "SGD2=[RecommendationSGD_Random(train_Ncore_user,max_iter = 20,n_factors = x,\n",
    "                 batch_size=50) for x in [5,10,20,25,30]]"
   ]
  },
  {
   "cell_type": "code",
   "execution_count": 237,
   "metadata": {
    "collapsed": false
   },
   "outputs": [
    {
     "name": "stdout",
     "output_type": "stream",
     "text": [
      "1.32440332188\n",
      "1.09768500404\n",
      "1.0080939053\n",
      "0.961150281606\n",
      "0.933579204546\n",
      "0.915754976178\n",
      "0.903090342141\n",
      "0.894114981536\n",
      "\tcurrent iteration: 10\n",
      "0.887363371463\n",
      "0.882206859413\n",
      "0.878071556904\n",
      "0.875121848202\n",
      "0.872266807709\n",
      "0.870117189202\n",
      "0.86813651555\n",
      "0.866220434394\n",
      "0.864886191184\n",
      "0.863325842028\n",
      "\tcurrent iteration: 20\n",
      "0.862803307537\n",
      "1.77536520313\n",
      "1.23266415854\n",
      "1.04993403956\n",
      "0.96813749268\n",
      "0.925600360341\n",
      "0.900657710932\n",
      "0.884547784318\n",
      "0.874457147068\n",
      "\tcurrent iteration: 10\n",
      "0.867586253859\n",
      "0.862874516287\n",
      "0.859749710897\n",
      "0.856778266081\n",
      "0.854870418785\n",
      "0.853578486446\n",
      "0.852746536483\n",
      "0.851096073412\n",
      "0.851126603112\n",
      "0.850587988764\n",
      "\tcurrent iteration: 20\n",
      "0.850552892644\n",
      "2.74020608834\n",
      "1.47987919306\n",
      "1.11903605554\n",
      "0.975692677093\n",
      "0.907887406033\n",
      "0.873346778096\n",
      "0.8533230513\n",
      "0.841845133944\n",
      "\tcurrent iteration: 10\n",
      "0.835380073211\n",
      "0.831044519369\n",
      "0.828597246446\n",
      "0.826931451391\n",
      "0.826666711847\n",
      "0.826215355786\n",
      "0.82648612773\n",
      "0.826624379116\n",
      "0.827491036776\n",
      "0.828625639077\n",
      "\tcurrent iteration: 20\n",
      "0.829278487611\n",
      "3.17124716999\n",
      "1.57466386011\n",
      "1.14072438901\n",
      "0.973487927513\n",
      "0.897389440266\n",
      "0.859652362614\n",
      "0.838727193714\n",
      "0.827572811976\n",
      "\tcurrent iteration: 10\n",
      "0.82094777187\n",
      "0.816764092935\n",
      "0.815568142517\n",
      "0.815119400373\n",
      "0.814720226139\n",
      "0.814997715404\n",
      "0.815441647664\n",
      "0.817120238447\n",
      "0.817371354754\n",
      "0.818577901558\n",
      "\tcurrent iteration: 20\n",
      "0.819995014928\n",
      "3.53898094375\n",
      "1.64043618285\n",
      "1.14675923969\n",
      "0.963615351143\n",
      "0.88323428767\n",
      "0.843316806524\n",
      "0.822794809342\n",
      "0.811409876957\n",
      "\tcurrent iteration: 10\n",
      "0.805022159734\n",
      "0.802633478061\n",
      "0.801048667573\n",
      "0.801595214356\n",
      "0.801772653568\n",
      "0.803015890661\n",
      "0.804916478725\n",
      "0.805994929079\n",
      "0.808052231374\n",
      "0.809444865833\n",
      "\tcurrent iteration: 20\n",
      "0.810937307791\n"
     ]
    }
   ],
   "source": [
    "SGD_Pred2=[x.get_prediction() for x in SGD2]"
   ]
  },
  {
   "cell_type": "code",
   "execution_count": 238,
   "metadata": {
    "collapsed": false
   },
   "outputs": [
    {
     "name": "stdout",
     "output_type": "stream",
     "text": [
      "MSE on Training with  5  Latent Factors:  0.861936460172\n",
      "MSE on Test with  5  Latent Factors:  1.12752300633\n",
      "MSE on Training with  10  Latent Factors:  0.850552892644\n",
      "MSE on Test with  10  Latent Factors:  1.13191113069\n",
      "MSE on Training with  20  Latent Factors:  0.829780465649\n",
      "MSE on Test with  20  Latent Factors:  1.14893670239\n",
      "MSE on Training with  25  Latent Factors:  0.821514888452\n",
      "MSE on Test with  25  Latent Factors:  1.15673135994\n",
      "MSE on Training with  30  Latent Factors:  0.812650501339\n",
      "MSE on Test with  30  Latent Factors:  1.16749595385\n"
     ]
    }
   ],
   "source": [
    "for i,v in enumerate([5,10,20,25,30]):\n",
    "    print (\"MSE on Training with \", v, \" Latent Factors: \",get_mse(SGD_Pred2[i],train_Ncore_user))\n",
    "    print (\"MSE on Test with \", v, \" Latent Factors: \",get_mse(SGD_Pred2[i],test_Ncore_user))"
   ]
  },
  {
   "cell_type": "code",
   "execution_count": 239,
   "metadata": {
    "collapsed": false
   },
   "outputs": [
    {
     "data": {
      "image/png": "[encoded data removed]",
      "text/plain": [
       "<matplotlib.figure.Figure at 0x11a2b6be0>"
      ]
     },
     "metadata": {},
     "output_type": "display_data"
    }
   ],
   "source": [
    "plt.plot([5,10,20,25,30], [get_mse(i,train_Ncore_user) for i in SGD_Pred2], \\\n",
    "             label = 'Training', linewidth=5)\n",
    "plt.plot([5,10,20,25,30], [get_mse(i,test_Ncore_user) for i in SGD_Pred2], \\\n",
    "             label = 'Test', linewidth=5)\n",
    "\n",
    "plt.xticks(fontsize = 12);\n",
    "plt.yticks(fontsize = 12);\n",
    "plt.xlabel('latent factor', fontsize = 12);\n",
    "plt.ylabel('MSE', fontsize = 12);\n",
    "plt.legend(loc = 'best', fontsize = 12);"
   ]
  },
  {
   "cell_type": "markdown",
   "metadata": {},
   "source": [
    "Under 20 epoches for each combination of N factors, the model overfits the training set along with the increase in number of factors. Thus, 5 latent factors are selected since the MSE of the test set reaches the lowest at this point.<br>\n",
    "The MSE of the Latenet Factorized Collaborative Filter trainied by Stochastic Gradient Descent is obvisouly lower than the baseline. We will recommend top N ranked items by the predicted ratings from this filter in the following recommendation system. "
   ]
  },
  {
   "cell_type": "markdown",
   "metadata": {},
   "source": [
    "## Recommendation With Item Details"
   ]
  },
  {
   "cell_type": "markdown",
   "metadata": {},
   "source": [
    "To evaluate prediction of the collaborative filter really make sense or not, we decide to check the output in a more intuitive way by comparing what the system recommended with what the user's already rated. For this comparison, information other than asin (product ID) such as item name, description on the item and the category where the item belongs to is required.<br>\n",
    "These information is stored in __meta_Beauty.json__. In the recommendation system, the asin of the top recommended items are linked back to the meta data to extract those details."
   ]
  },
  {
   "cell_type": "markdown",
   "metadata": {
    "collapsed": true
   },
   "source": [
    "### Read-In Product Meta Data"
   ]
  },
  {
   "cell_type": "code",
   "execution_count": 21,
   "metadata": {
    "collapsed": true
   },
   "outputs": [],
   "source": [
    "meta_original = getDF('meta_Beauty.json')"
   ]
  },
  {
   "cell_type": "code",
   "execution_count": 22,
   "metadata": {
    "collapsed": true
   },
   "outputs": [],
   "source": [
    "meta=copy.deepcopy(meta_original)\n",
    "for i in range(4):\n",
    "    meta['type_L'+str(i)] = meta['categories'].apply(lambda x: x[0][i] if i<len(x[0]) else np.nan)\n",
    "item_category=pd.DataFrame(meta.groupby(['type_L0', 'type_L1', 'type_L2', 'type_L3'])['asin'].nunique()).reset_index()"
   ]
  },
  {
   "cell_type": "code",
   "execution_count": 35,
   "metadata": {
    "collapsed": false
   },
   "outputs": [
    {
     "data": {
      "text/plain": [
       "Index(['imUrl', 'description', 'asin', 'salesRank', 'title', 'categories',\n",
       "       'price', 'related', 'brand', 'type_L0', 'type_L1', 'type_L2',\n",
       "       'type_L3'],\n",
       "      dtype='object')"
      ]
     },
     "execution_count": 35,
     "metadata": {},
     "output_type": "execute_result"
    }
   ],
   "source": [
    "meta.columns"
   ]
  },
  {
   "cell_type": "code",
   "execution_count": 6,
   "metadata": {
    "collapsed": false
   },
   "outputs": [
    {
     "data": {
      "text/html": [
       "<div>\n",
       "<style>\n",
       "    .dataframe thead tr:only-child th {\n",
       "        text-align: right;\n",
       "    }\n",
       "\n",
       "    .dataframe thead th {\n",
       "        text-align: left;\n",
       "    }\n",
       "\n",
       "    .dataframe tbody tr th {\n",
       "        vertical-align: top;\n",
       "    }\n",
       "</style>\n",
       "<table border=\"1\" class=\"dataframe\">\n",
       "  <thead>\n",
       "    <tr style=\"text-align: right;\">\n",
       "      <th></th>\n",
       "      <th></th>\n",
       "      <th></th>\n",
       "      <th></th>\n",
       "      <th>asin</th>\n",
       "    </tr>\n",
       "    <tr>\n",
       "      <th>type_L0</th>\n",
       "      <th>type_L1</th>\n",
       "      <th>type_L2</th>\n",
       "      <th>type_L3</th>\n",
       "      <th></th>\n",
       "    </tr>\n",
       "  </thead>\n",
       "  <tbody>\n",
       "    <tr>\n",
       "      <th rowspan=\"53\" valign=\"top\">Beauty</th>\n",
       "      <th rowspan=\"18\" valign=\"top\">Bath &amp; Body</th>\n",
       "      <th rowspan=\"6\" valign=\"top\">Bath</th>\n",
       "      <th>Bath Bombs</th>\n",
       "      <td>254</td>\n",
       "    </tr>\n",
       "    <tr>\n",
       "      <th>Bath Pearls &amp; Flakes</th>\n",
       "      <td>33</td>\n",
       "    </tr>\n",
       "    <tr>\n",
       "      <th>Bubble Bath</th>\n",
       "      <td>516</td>\n",
       "    </tr>\n",
       "    <tr>\n",
       "      <th>Minerals &amp; Salts</th>\n",
       "      <td>791</td>\n",
       "    </tr>\n",
       "    <tr>\n",
       "      <th>Oils</th>\n",
       "      <td>295</td>\n",
       "    </tr>\n",
       "    <tr>\n",
       "      <th>Tub Tea</th>\n",
       "      <td>26</td>\n",
       "    </tr>\n",
       "    <tr>\n",
       "      <th rowspan=\"7\" valign=\"top\">Bathing Accessories</th>\n",
       "      <th>Bath Brushes</th>\n",
       "      <td>301</td>\n",
       "    </tr>\n",
       "    <tr>\n",
       "      <th>Bath Mitts &amp; Cloths</th>\n",
       "      <td>296</td>\n",
       "    </tr>\n",
       "    <tr>\n",
       "      <th>Bath Pillows</th>\n",
       "      <td>177</td>\n",
       "    </tr>\n",
       "    <tr>\n",
       "      <th>Bath Trays</th>\n",
       "      <td>69</td>\n",
       "    </tr>\n",
       "    <tr>\n",
       "      <th>Eye Masks</th>\n",
       "      <td>52</td>\n",
       "    </tr>\n",
       "    <tr>\n",
       "      <th>Loofahs, Sponges &amp; Poufs</th>\n",
       "      <td>597</td>\n",
       "    </tr>\n",
       "    <tr>\n",
       "      <th>Shower Caps</th>\n",
       "      <td>403</td>\n",
       "    </tr>\n",
       "    <tr>\n",
       "      <th rowspan=\"2\" valign=\"top\">Cleansers</th>\n",
       "      <th>Body Washes</th>\n",
       "      <td>4918</td>\n",
       "    </tr>\n",
       "    <tr>\n",
       "      <th>Soaps</th>\n",
       "      <td>6238</td>\n",
       "    </tr>\n",
       "    <tr>\n",
       "      <th rowspan=\"3\" valign=\"top\">Scrubs &amp; Body Treatments</th>\n",
       "      <th>Body Mud</th>\n",
       "      <td>219</td>\n",
       "    </tr>\n",
       "    <tr>\n",
       "      <th>Body Scrubs</th>\n",
       "      <td>3340</td>\n",
       "    </tr>\n",
       "    <tr>\n",
       "      <th>Body Souffles &amp; Mousse</th>\n",
       "      <td>149</td>\n",
       "    </tr>\n",
       "    <tr>\n",
       "      <th rowspan=\"10\" valign=\"top\">Fragrance</th>\n",
       "      <th rowspan=\"4\" valign=\"top\">Men's</th>\n",
       "      <th>Cologne</th>\n",
       "      <td>1763</td>\n",
       "    </tr>\n",
       "    <tr>\n",
       "      <th>Eau de Parfum</th>\n",
       "      <td>304</td>\n",
       "    </tr>\n",
       "    <tr>\n",
       "      <th>Eau de Toilette</th>\n",
       "      <td>3567</td>\n",
       "    </tr>\n",
       "    <tr>\n",
       "      <th>Sets</th>\n",
       "      <td>1105</td>\n",
       "    </tr>\n",
       "    <tr>\n",
       "      <th rowspan=\"6\" valign=\"top\">Women's</th>\n",
       "      <th>Body Sprays</th>\n",
       "      <td>1153</td>\n",
       "    </tr>\n",
       "    <tr>\n",
       "      <th>Cologne</th>\n",
       "      <td>925</td>\n",
       "    </tr>\n",
       "    <tr>\n",
       "      <th>Eau de Parfum</th>\n",
       "      <td>7523</td>\n",
       "    </tr>\n",
       "    <tr>\n",
       "      <th>Eau de Toilette</th>\n",
       "      <td>4480</td>\n",
       "    </tr>\n",
       "    <tr>\n",
       "      <th>Essential Oils</th>\n",
       "      <td>674</td>\n",
       "    </tr>\n",
       "    <tr>\n",
       "      <th>Sets</th>\n",
       "      <td>2098</td>\n",
       "    </tr>\n",
       "    <tr>\n",
       "      <th rowspan=\"2\" valign=\"top\">Hair Care</th>\n",
       "      <th rowspan=\"2\" valign=\"top\">Hair Color</th>\n",
       "      <th>Chemical Hair Dyes</th>\n",
       "      <td>3438</td>\n",
       "    </tr>\n",
       "    <tr>\n",
       "      <th>Color Correctors</th>\n",
       "      <td>75</td>\n",
       "    </tr>\n",
       "    <tr>\n",
       "      <th>...</th>\n",
       "      <th>...</th>\n",
       "      <th>...</th>\n",
       "      <td>...</td>\n",
       "    </tr>\n",
       "    <tr>\n",
       "      <th rowspan=\"22\" valign=\"top\">Tools &amp; Accessories</th>\n",
       "      <th>Hair Coloring Tools</th>\n",
       "      <th>Hair Color Removers</th>\n",
       "      <td>31</td>\n",
       "    </tr>\n",
       "    <tr>\n",
       "      <th rowspan=\"7\" valign=\"top\">Makeup Brushes &amp; Tools</th>\n",
       "      <th>Blotting Paper</th>\n",
       "      <td>121</td>\n",
       "    </tr>\n",
       "    <tr>\n",
       "      <th>Brushes &amp; Applicators</th>\n",
       "      <td>2545</td>\n",
       "    </tr>\n",
       "    <tr>\n",
       "      <th>Eyelash Tools</th>\n",
       "      <td>1956</td>\n",
       "    </tr>\n",
       "    <tr>\n",
       "      <th>Puffs, Sponges &amp; Wedges</th>\n",
       "      <td>315</td>\n",
       "    </tr>\n",
       "    <tr>\n",
       "      <th>Sets &amp; Kits</th>\n",
       "      <td>593</td>\n",
       "    </tr>\n",
       "    <tr>\n",
       "      <th>Sharpeners</th>\n",
       "      <td>80</td>\n",
       "    </tr>\n",
       "    <tr>\n",
       "      <th>Treatment Tools</th>\n",
       "      <td>331</td>\n",
       "    </tr>\n",
       "    <tr>\n",
       "      <th rowspan=\"2\" valign=\"top\">Mirrors</th>\n",
       "      <th>Makeup Mirrors</th>\n",
       "      <td>1252</td>\n",
       "    </tr>\n",
       "    <tr>\n",
       "      <th>Shower Mirrors</th>\n",
       "      <td>78</td>\n",
       "    </tr>\n",
       "    <tr>\n",
       "      <th rowspan=\"12\" valign=\"top\">Nail Tools</th>\n",
       "      <th>Clippers &amp; Trimmers</th>\n",
       "      <td>726</td>\n",
       "    </tr>\n",
       "    <tr>\n",
       "      <th>Cuticle Pushers</th>\n",
       "      <td>117</td>\n",
       "    </tr>\n",
       "    <tr>\n",
       "      <th>Cuticle Scissors</th>\n",
       "      <td>139</td>\n",
       "    </tr>\n",
       "    <tr>\n",
       "      <th>False Nails</th>\n",
       "      <td>1196</td>\n",
       "    </tr>\n",
       "    <tr>\n",
       "      <th>Foot Rasps</th>\n",
       "      <td>153</td>\n",
       "    </tr>\n",
       "    <tr>\n",
       "      <th>Nail Art Equipment</th>\n",
       "      <td>1670</td>\n",
       "    </tr>\n",
       "    <tr>\n",
       "      <th>Nail Brushes</th>\n",
       "      <td>351</td>\n",
       "    </tr>\n",
       "    <tr>\n",
       "      <th>Nail Dryers</th>\n",
       "      <td>355</td>\n",
       "    </tr>\n",
       "    <tr>\n",
       "      <th>Nail Files &amp; Buffers</th>\n",
       "      <td>919</td>\n",
       "    </tr>\n",
       "    <tr>\n",
       "      <th>Sets &amp; Kits</th>\n",
       "      <td>1025</td>\n",
       "    </tr>\n",
       "    <tr>\n",
       "      <th>Spa Slippers</th>\n",
       "      <td>245</td>\n",
       "    </tr>\n",
       "    <tr>\n",
       "      <th>Toe Separators</th>\n",
       "      <td>181</td>\n",
       "    </tr>\n",
       "    <tr>\n",
       "      <th rowspan=\"6\" valign=\"top\">Health &amp; Personal Care</th>\n",
       "      <th>Health Care</th>\n",
       "      <th>Pain Relievers</th>\n",
       "      <th>Hot &amp; Cold Therapies</th>\n",
       "      <td>1</td>\n",
       "    </tr>\n",
       "    <tr>\n",
       "      <th>Household Supplies</th>\n",
       "      <th>Household Cleaning</th>\n",
       "      <th>All-Purpose Cleaners</th>\n",
       "      <td>1</td>\n",
       "    </tr>\n",
       "    <tr>\n",
       "      <th rowspan=\"2\" valign=\"top\">Personal Care</th>\n",
       "      <th>Deodorants &amp; Antiperspirants</th>\n",
       "      <th>Men's Deodorants &amp; Antiperspirants</th>\n",
       "      <td>1</td>\n",
       "    </tr>\n",
       "    <tr>\n",
       "      <th>Lip Care</th>\n",
       "      <th>Balms &amp; Moisturizers</th>\n",
       "      <td>1</td>\n",
       "    </tr>\n",
       "    <tr>\n",
       "      <th rowspan=\"2\" valign=\"top\">Stationery &amp; Party Supplies</th>\n",
       "      <th rowspan=\"2\" valign=\"top\">Party Supplies</th>\n",
       "      <th>Decorations</th>\n",
       "      <td>1</td>\n",
       "    </tr>\n",
       "    <tr>\n",
       "      <th>Favors</th>\n",
       "      <td>1</td>\n",
       "    </tr>\n",
       "    <tr>\n",
       "      <th>Home &amp; Kitchen</th>\n",
       "      <th>Kitchen &amp; Dining</th>\n",
       "      <th>Home Brewing &amp; Wine Making</th>\n",
       "      <th>Beer Brewing</th>\n",
       "      <td>1</td>\n",
       "    </tr>\n",
       "    <tr>\n",
       "      <th>Sports &amp; Outdoors</th>\n",
       "      <th>Fan Shop</th>\n",
       "      <th>Bags, Packs &amp; Accessories</th>\n",
       "      <th>Tote Bags</th>\n",
       "      <td>1</td>\n",
       "    </tr>\n",
       "  </tbody>\n",
       "</table>\n",
       "<p>172 rows × 1 columns</p>\n",
       "</div>"
      ],
      "text/plain": [
       "                                                                                                                    asin\n",
       "type_L0                type_L1                     type_L2                      type_L3                                 \n",
       "Beauty                 Bath & Body                 Bath                         Bath Bombs                           254\n",
       "                                                                                Bath Pearls & Flakes                  33\n",
       "                                                                                Bubble Bath                          516\n",
       "                                                                                Minerals & Salts                     791\n",
       "                                                                                Oils                                 295\n",
       "                                                                                Tub Tea                               26\n",
       "                                                   Bathing Accessories          Bath Brushes                         301\n",
       "                                                                                Bath Mitts & Cloths                  296\n",
       "                                                                                Bath Pillows                         177\n",
       "                                                                                Bath Trays                            69\n",
       "                                                                                Eye Masks                             52\n",
       "                                                                                Loofahs, Sponges & Poufs             597\n",
       "                                                                                Shower Caps                          403\n",
       "                                                   Cleansers                    Body Washes                         4918\n",
       "                                                                                Soaps                               6238\n",
       "                                                   Scrubs & Body Treatments     Body Mud                             219\n",
       "                                                                                Body Scrubs                         3340\n",
       "                                                                                Body Souffles & Mousse               149\n",
       "                       Fragrance                   Men's                        Cologne                             1763\n",
       "                                                                                Eau de Parfum                        304\n",
       "                                                                                Eau de Toilette                     3567\n",
       "                                                                                Sets                                1105\n",
       "                                                   Women's                      Body Sprays                         1153\n",
       "                                                                                Cologne                              925\n",
       "                                                                                Eau de Parfum                       7523\n",
       "                                                                                Eau de Toilette                     4480\n",
       "                                                                                Essential Oils                       674\n",
       "                                                                                Sets                                2098\n",
       "                       Hair Care                   Hair Color                   Chemical Hair Dyes                  3438\n",
       "                                                                                Color Correctors                      75\n",
       "...                                                                                                                  ...\n",
       "                       Tools & Accessories         Hair Coloring Tools          Hair Color Removers                   31\n",
       "                                                   Makeup Brushes & Tools       Blotting Paper                       121\n",
       "                                                                                Brushes & Applicators               2545\n",
       "                                                                                Eyelash Tools                       1956\n",
       "                                                                                Puffs, Sponges & Wedges              315\n",
       "                                                                                Sets & Kits                          593\n",
       "                                                                                Sharpeners                            80\n",
       "                                                                                Treatment Tools                      331\n",
       "                                                   Mirrors                      Makeup Mirrors                      1252\n",
       "                                                                                Shower Mirrors                        78\n",
       "                                                   Nail Tools                   Clippers & Trimmers                  726\n",
       "                                                                                Cuticle Pushers                      117\n",
       "                                                                                Cuticle Scissors                     139\n",
       "                                                                                False Nails                         1196\n",
       "                                                                                Foot Rasps                           153\n",
       "                                                                                Nail Art Equipment                  1670\n",
       "                                                                                Nail Brushes                         351\n",
       "                                                                                Nail Dryers                          355\n",
       "                                                                                Nail Files & Buffers                 919\n",
       "                                                                                Sets & Kits                         1025\n",
       "                                                                                Spa Slippers                         245\n",
       "                                                                                Toe Separators                       181\n",
       "Health & Personal Care Health Care                 Pain Relievers               Hot & Cold Therapies                   1\n",
       "                       Household Supplies          Household Cleaning           All-Purpose Cleaners                   1\n",
       "                       Personal Care               Deodorants & Antiperspirants Men's Deodorants & Antiperspirants     1\n",
       "                                                   Lip Care                     Balms & Moisturizers                   1\n",
       "                       Stationery & Party Supplies Party Supplies               Decorations                            1\n",
       "                                                                                Favors                                 1\n",
       "Home & Kitchen         Kitchen & Dining            Home Brewing & Wine Making   Beer Brewing                           1\n",
       "Sports & Outdoors      Fan Shop                    Bags, Packs & Accessories    Tote Bags                              1\n",
       "\n",
       "[172 rows x 1 columns]"
      ]
     },
     "execution_count": 6,
     "metadata": {},
     "output_type": "execute_result"
    }
   ],
   "source": [
    "meta.groupby(['type_L0', 'type_L1', 'type_L2', 'type_L3']).asin.nunique().to_frame()"
   ]
  },
  {
   "cell_type": "markdown",
   "metadata": {},
   "source": [
    "According to the table above, a three-layer category has been sufficient for us to understand the purpose of a product. Those three categories would be presented in the following function telling what kind of product the user has rated."
   ]
  },
  {
   "cell_type": "code",
   "execution_count": 23,
   "metadata": {
    "collapsed": true
   },
   "outputs": [],
   "source": [
    "def Advanced_Recommendation(Pred,ratings_Ncore,User,N):\n",
    "    user_in_list=user_map_afterNcore.ix[user_map_afterNcore['reviewerID']==User,'reviewerID_Ncore']\n",
    "    if pd.notnull(user_in_list.values[0]):\n",
    "        Pred_C=copy.deepcopy(Pred)\n",
    "        #replace all the item rated by users as zero to avoid recommend item user already bought\n",
    "        Pred_C[np.where(ratings_Ncore!=0)[0],np.where(ratings_Ncore!=0)[1]]=0\n",
    "        #find what the user has rated\n",
    "        item_bought=np.nonzero(ratings_Ncore[int(user_in_list.values[0]),:])[0].tolist()\n",
    "        asin_bought=item_map_afterNcore.loc[item_map_afterNcore['asinID_Ncore'].isin(item_bought),'asin'].tolist()\n",
    "        category_bought=meta.loc[meta['asin'].isin(asin_bought),['type_L1','type_L2','type_L3','asin']]\n",
    "        category_bought_df=category_bought.groupby(['type_L1','type_L2','type_L3'])['asin'].nunique().to_frame().reset_index()\\\n",
    "        .sort_values(by='asin',ascending=False)\n",
    "        total=np.sum(category_bought_df['asin'])\n",
    "        category_bought_df['precent']=category_bought_df['asin']/total\n",
    "        category_bought_df['precent']=category_bought_df['precent'].apply(lambda x: \"{0:.0%}\".format(x))\n",
    "        print ('items bought')\n",
    "        print(category_bought_df[['type_L1','type_L2','type_L3','asin','precent']])\n",
    "        #recommend items\n",
    "        item_Ncore=np.argsort(Pred_C[int(user_in_list.values[0]),:])[:-N-1:-1].tolist()\n",
    "        Recommend=item_map_afterNcore.loc[item_map_afterNcore['asinID_Ncore'].isin(item_Ncore),'asin'].tolist()\n",
    "        print (\"\\n items recommended\")\n",
    "        return  meta.loc[meta['asin'].isin(Recommend),['asin','title','type_L1','type_L2','type_L3','description','imUrl']]\n",
    "    else:\n",
    "        print ('Too few items bought to predict')\n",
    "        return False"
   ]
  },
  {
   "cell_type": "markdown",
   "metadata": {},
   "source": [
    "Let's select reviewer 'AZXP46IB63PU8' to predict what top ten items the system recommends and compare with items he/she rated."
   ]
  },
  {
   "cell_type": "code",
   "execution_count": 27,
   "metadata": {
    "collapsed": false
   },
   "outputs": [
    {
     "name": "stdout",
     "output_type": "stream",
     "text": [
      "items bought\n",
      "       type_L1 type_L2                type_L3  asin precent\n",
      "2    Skin Care    Face  Creams & Moisturizers     4     50%\n",
      "1    Skin Care    Body           Moisturizers     2     25%\n",
      "0  Bath & Body    Bath            Bubble Bath     1     12%\n",
      "3    Skin Care    Face          Oils & Serums     1     12%\n",
      "\n",
      " items recommended\n"
     ]
    },
    {
     "data": {
      "text/html": [
       "<div>\n",
       "<style>\n",
       "    .dataframe thead tr:only-child th {\n",
       "        text-align: right;\n",
       "    }\n",
       "\n",
       "    .dataframe thead th {\n",
       "        text-align: left;\n",
       "    }\n",
       "\n",
       "    .dataframe tbody tr th {\n",
       "        vertical-align: top;\n",
       "    }\n",
       "</style>\n",
       "<table border=\"1\" class=\"dataframe\">\n",
       "  <thead>\n",
       "    <tr style=\"text-align: right;\">\n",
       "      <th></th>\n",
       "      <th>asin</th>\n",
       "      <th>title</th>\n",
       "      <th>type_L1</th>\n",
       "      <th>type_L2</th>\n",
       "      <th>type_L3</th>\n",
       "      <th>description</th>\n",
       "      <th>imUrl</th>\n",
       "    </tr>\n",
       "  </thead>\n",
       "  <tbody>\n",
       "    <tr>\n",
       "      <th>5168</th>\n",
       "      <td>B00027CGWQ</td>\n",
       "      <td>Udderly Smooth Udder Cream, Skin Moisturizer, ...</td>\n",
       "      <td>Skin Care</td>\n",
       "      <td>Body</td>\n",
       "      <td>Moisturizers</td>\n",
       "      <td>Udderly  SMooth Udder Cream is a water-based m...</td>\n",
       "      <td>http://ecx.images-amazon.com/images/I/51fm2Lcc...</td>\n",
       "    </tr>\n",
       "    <tr>\n",
       "      <th>16778</th>\n",
       "      <td>B000F8FZAC</td>\n",
       "      <td>Moisturizer-Almond Aloe With SPF15 Earth Scien...</td>\n",
       "      <td>Skin Care</td>\n",
       "      <td>Face</td>\n",
       "      <td>Creams &amp; Moisturizers</td>\n",
       "      <td>Moisturizer-Almond Aloe With SPF15 by Earth Sc...</td>\n",
       "      <td>http://ecx.images-amazon.com/images/I/31lPlx89...</td>\n",
       "    </tr>\n",
       "    <tr>\n",
       "      <th>16946</th>\n",
       "      <td>B000FCNW26</td>\n",
       "      <td>Obsession Night by Calvin Klein for Women, Eau...</td>\n",
       "      <td>Fragrance</td>\n",
       "      <td>Women's</td>\n",
       "      <td>Eau de Parfum</td>\n",
       "      <td>Obsession Night by Calvin Klein designer fragr...</td>\n",
       "      <td>http://ecx.images-amazon.com/images/I/41noHh7L...</td>\n",
       "    </tr>\n",
       "    <tr>\n",
       "      <th>77207</th>\n",
       "      <td>B002BPY7H4</td>\n",
       "      <td>Doo Gro Stimulating Growth Oil</td>\n",
       "      <td>Skin Care</td>\n",
       "      <td>Body</td>\n",
       "      <td>Moisturizers</td>\n",
       "      <td>Doo Gro Stimulating Growth Oil promotes strong...</td>\n",
       "      <td>http://ecx.images-amazon.com/images/I/31f1rOgN...</td>\n",
       "    </tr>\n",
       "    <tr>\n",
       "      <th>78633</th>\n",
       "      <td>B002E788WE</td>\n",
       "      <td>PedEgg Original Foot File</td>\n",
       "      <td>Tools &amp; Accessories</td>\n",
       "      <td>Nail Tools</td>\n",
       "      <td>Foot Rasps</td>\n",
       "      <td>As seen on TV. Gently removes callous, dry ski...</td>\n",
       "      <td>http://ecx.images-amazon.com/images/I/41y7NRKu...</td>\n",
       "    </tr>\n",
       "    <tr>\n",
       "      <th>100230</th>\n",
       "      <td>B003H87S0C</td>\n",
       "      <td>Dr. Dennis Gross Skincare Original Formula Alp...</td>\n",
       "      <td>Skin Care</td>\n",
       "      <td>Face</td>\n",
       "      <td>Treatments &amp; Masks</td>\n",
       "      <td>Specifically proven results can only be achiev...</td>\n",
       "      <td>http://ecx.images-amazon.com/images/I/41E4YoTR...</td>\n",
       "    </tr>\n",
       "    <tr>\n",
       "      <th>100260</th>\n",
       "      <td>B003HD04DK</td>\n",
       "      <td>Formula 10.0.6 Totally Clean Cleanser Original...</td>\n",
       "      <td>Skin Care</td>\n",
       "      <td>Face</td>\n",
       "      <td>Treatments &amp; Masks</td>\n",
       "      <td>Formula 10.0.6 Totally Clean Cleanser Original...</td>\n",
       "      <td>http://ecx.images-amazon.com/images/I/31TlfovW...</td>\n",
       "    </tr>\n",
       "    <tr>\n",
       "      <th>103444</th>\n",
       "      <td>B003MTPE5M</td>\n",
       "      <td>Gratiae Organics Ultrox Expression Marks Anti ...</td>\n",
       "      <td>Skin Care</td>\n",
       "      <td>Face</td>\n",
       "      <td>Creams &amp; Moisturizers</td>\n",
       "      <td>The GRATiAE Organic Ultrox Expression Marks An...</td>\n",
       "      <td>http://ecx.images-amazon.com/images/I/41iJrrxo...</td>\n",
       "    </tr>\n",
       "    <tr>\n",
       "      <th>117230</th>\n",
       "      <td>B004A7VG70</td>\n",
       "      <td>Olay Cleansing Body Wash, Silky Berry, 23.6 Fl...</td>\n",
       "      <td>Bath &amp; Body</td>\n",
       "      <td>Cleansers</td>\n",
       "      <td>Body Washes</td>\n",
       "      <td></td>\n",
       "      <td>http://ecx.images-amazon.com/images/I/412Zmdgj...</td>\n",
       "    </tr>\n",
       "    <tr>\n",
       "      <th>201912</th>\n",
       "      <td>B00A7FS2OO</td>\n",
       "      <td>DNS Biogenesis Eye Roller-vessel Sealing Syste...</td>\n",
       "      <td>Skin Care</td>\n",
       "      <td>Eyes</td>\n",
       "      <td>Rollers &amp; Pens</td>\n",
       "      <td>At bioGenesis London, our skin scientists are ...</td>\n",
       "      <td>http://ecx.images-amazon.com/images/I/41qhgSgh...</td>\n",
       "    </tr>\n",
       "  </tbody>\n",
       "</table>\n",
       "</div>"
      ],
      "text/plain": [
       "              asin                                              title  \\\n",
       "5168    B00027CGWQ  Udderly Smooth Udder Cream, Skin Moisturizer, ...   \n",
       "16778   B000F8FZAC  Moisturizer-Almond Aloe With SPF15 Earth Scien...   \n",
       "16946   B000FCNW26  Obsession Night by Calvin Klein for Women, Eau...   \n",
       "77207   B002BPY7H4                     Doo Gro Stimulating Growth Oil   \n",
       "78633   B002E788WE                          PedEgg Original Foot File   \n",
       "100230  B003H87S0C  Dr. Dennis Gross Skincare Original Formula Alp...   \n",
       "100260  B003HD04DK  Formula 10.0.6 Totally Clean Cleanser Original...   \n",
       "103444  B003MTPE5M  Gratiae Organics Ultrox Expression Marks Anti ...   \n",
       "117230  B004A7VG70  Olay Cleansing Body Wash, Silky Berry, 23.6 Fl...   \n",
       "201912  B00A7FS2OO  DNS Biogenesis Eye Roller-vessel Sealing Syste...   \n",
       "\n",
       "                    type_L1     type_L2                type_L3  \\\n",
       "5168              Skin Care        Body           Moisturizers   \n",
       "16778             Skin Care        Face  Creams & Moisturizers   \n",
       "16946             Fragrance     Women's          Eau de Parfum   \n",
       "77207             Skin Care        Body           Moisturizers   \n",
       "78633   Tools & Accessories  Nail Tools             Foot Rasps   \n",
       "100230            Skin Care        Face     Treatments & Masks   \n",
       "100260            Skin Care        Face     Treatments & Masks   \n",
       "103444            Skin Care        Face  Creams & Moisturizers   \n",
       "117230          Bath & Body   Cleansers            Body Washes   \n",
       "201912            Skin Care        Eyes         Rollers & Pens   \n",
       "\n",
       "                                              description  \\\n",
       "5168    Udderly  SMooth Udder Cream is a water-based m...   \n",
       "16778   Moisturizer-Almond Aloe With SPF15 by Earth Sc...   \n",
       "16946   Obsession Night by Calvin Klein designer fragr...   \n",
       "77207   Doo Gro Stimulating Growth Oil promotes strong...   \n",
       "78633   As seen on TV. Gently removes callous, dry ski...   \n",
       "100230  Specifically proven results can only be achiev...   \n",
       "100260  Formula 10.0.6 Totally Clean Cleanser Original...   \n",
       "103444  The GRATiAE Organic Ultrox Expression Marks An...   \n",
       "117230                                                      \n",
       "201912  At bioGenesis London, our skin scientists are ...   \n",
       "\n",
       "                                                    imUrl  \n",
       "5168    http://ecx.images-amazon.com/images/I/51fm2Lcc...  \n",
       "16778   http://ecx.images-amazon.com/images/I/31lPlx89...  \n",
       "16946   http://ecx.images-amazon.com/images/I/41noHh7L...  \n",
       "77207   http://ecx.images-amazon.com/images/I/31f1rOgN...  \n",
       "78633   http://ecx.images-amazon.com/images/I/41y7NRKu...  \n",
       "100230  http://ecx.images-amazon.com/images/I/41E4YoTR...  \n",
       "100260  http://ecx.images-amazon.com/images/I/31TlfovW...  \n",
       "103444  http://ecx.images-amazon.com/images/I/41iJrrxo...  \n",
       "117230  http://ecx.images-amazon.com/images/I/412Zmdgj...  \n",
       "201912  http://ecx.images-amazon.com/images/I/41qhgSgh...  "
      ]
     },
     "execution_count": 27,
     "metadata": {},
     "output_type": "execute_result"
    }
   ],
   "source": [
    "Advanced_Recommendation(SGD_Pred2[0],ratings_Ncore,User='AZXP46IB63PU8',N=10)"
   ]
  },
  {
   "cell_type": "code",
   "execution_count": 33,
   "metadata": {
    "collapsed": false
   },
   "outputs": [
    {
     "data": {
      "text/html": [
       "<div>\n",
       "<style>\n",
       "    .dataframe thead tr:only-child th {\n",
       "        text-align: right;\n",
       "    }\n",
       "\n",
       "    .dataframe thead th {\n",
       "        text-align: left;\n",
       "    }\n",
       "\n",
       "    .dataframe tbody tr th {\n",
       "        vertical-align: top;\n",
       "    }\n",
       "</style>\n",
       "<table border=\"1\" class=\"dataframe\">\n",
       "  <thead>\n",
       "    <tr style=\"text-align: right;\">\n",
       "      <th></th>\n",
       "      <th>reviewText</th>\n",
       "      <th>reviewerID</th>\n",
       "      <th>asin</th>\n",
       "      <th>overall</th>\n",
       "      <th>title</th>\n",
       "      <th>type_L1</th>\n",
       "      <th>type_L2</th>\n",
       "      <th>type_L3</th>\n",
       "    </tr>\n",
       "  </thead>\n",
       "  <tbody>\n",
       "    <tr>\n",
       "      <th>0</th>\n",
       "      <td>I did 't have a reaction to this cream which i...</td>\n",
       "      <td>AZXP46IB63PU8</td>\n",
       "      <td>B0007W1R58</td>\n",
       "      <td>5.0</td>\n",
       "      <td>Olay Regenerist Night Recovery Cream 1.7 Oz</td>\n",
       "      <td>Skin Care</td>\n",
       "      <td>Body</td>\n",
       "      <td>Moisturizers</td>\n",
       "    </tr>\n",
       "    <tr>\n",
       "      <th>1</th>\n",
       "      <td>I purchased this because I bought the day crea...</td>\n",
       "      <td>AZXP46IB63PU8</td>\n",
       "      <td>B000KPO99I</td>\n",
       "      <td>5.0</td>\n",
       "      <td>L'Oreal Paris Age Perfect Night Cream, 2.5 Flu...</td>\n",
       "      <td>Skin Care</td>\n",
       "      <td>Face</td>\n",
       "      <td>Creams &amp; Moisturizers</td>\n",
       "    </tr>\n",
       "    <tr>\n",
       "      <th>2</th>\n",
       "      <td>I use this every day.  It's a light face cream...</td>\n",
       "      <td>AZXP46IB63PU8</td>\n",
       "      <td>B000UVZU1S</td>\n",
       "      <td>5.0</td>\n",
       "      <td>St. Ives Facial Moisturizer, Timeless Skin Col...</td>\n",
       "      <td>Skin Care</td>\n",
       "      <td>Face</td>\n",
       "      <td>Creams &amp; Moisturizers</td>\n",
       "    </tr>\n",
       "    <tr>\n",
       "      <th>3</th>\n",
       "      <td>My face is very dry and flakey.  This cream ke...</td>\n",
       "      <td>AZXP46IB63PU8</td>\n",
       "      <td>B0012J30LY</td>\n",
       "      <td>5.0</td>\n",
       "      <td>Regenerist Micro-Sculpting Cream 1.7 Oz</td>\n",
       "      <td>Skin Care</td>\n",
       "      <td>Face</td>\n",
       "      <td>Creams &amp; Moisturizers</td>\n",
       "    </tr>\n",
       "    <tr>\n",
       "      <th>4</th>\n",
       "      <td>I have diabetic never pain and was looking for...</td>\n",
       "      <td>AZXP46IB63PU8</td>\n",
       "      <td>B0043494XS</td>\n",
       "      <td>5.0</td>\n",
       "      <td>Conair Waterfall Foot Spa with Lights, Bubbles...</td>\n",
       "      <td>Bath &amp; Body</td>\n",
       "      <td>Bath</td>\n",
       "      <td>Bubble Bath</td>\n",
       "    </tr>\n",
       "    <tr>\n",
       "      <th>5</th>\n",
       "      <td>Really great skin cream.  I bought it because ...</td>\n",
       "      <td>AZXP46IB63PU8</td>\n",
       "      <td>B004YWRYUY</td>\n",
       "      <td>5.0</td>\n",
       "      <td>L'oreal Age Perfect Day Cream SPF 15 2.5 Oz</td>\n",
       "      <td>Skin Care</td>\n",
       "      <td>Face</td>\n",
       "      <td>Creams &amp; Moisturizers</td>\n",
       "    </tr>\n",
       "    <tr>\n",
       "      <th>6</th>\n",
       "      <td>A really great skin fluid.  I like it even mor...</td>\n",
       "      <td>AZXP46IB63PU8</td>\n",
       "      <td>B005H1541C</td>\n",
       "      <td>5.0</td>\n",
       "      <td>L'Oreal Paris Age Perfect Hydra-Nutrition Adva...</td>\n",
       "      <td>Skin Care</td>\n",
       "      <td>Face</td>\n",
       "      <td>Oils &amp; Serums</td>\n",
       "    </tr>\n",
       "    <tr>\n",
       "      <th>7</th>\n",
       "      <td>If you have dry skin for whatever reason, this...</td>\n",
       "      <td>AZXP46IB63PU8</td>\n",
       "      <td>B00AHH00TC</td>\n",
       "      <td>5.0</td>\n",
       "      <td>Gold Bond Diabetic Skin Relief Lotion, 13 Ounce</td>\n",
       "      <td>Skin Care</td>\n",
       "      <td>Body</td>\n",
       "      <td>Moisturizers</td>\n",
       "    </tr>\n",
       "  </tbody>\n",
       "</table>\n",
       "</div>"
      ],
      "text/plain": [
       "                                          reviewText     reviewerID  \\\n",
       "0  I did 't have a reaction to this cream which i...  AZXP46IB63PU8   \n",
       "1  I purchased this because I bought the day crea...  AZXP46IB63PU8   \n",
       "2  I use this every day.  It's a light face cream...  AZXP46IB63PU8   \n",
       "3  My face is very dry and flakey.  This cream ke...  AZXP46IB63PU8   \n",
       "4  I have diabetic never pain and was looking for...  AZXP46IB63PU8   \n",
       "5  Really great skin cream.  I bought it because ...  AZXP46IB63PU8   \n",
       "6  A really great skin fluid.  I like it even mor...  AZXP46IB63PU8   \n",
       "7  If you have dry skin for whatever reason, this...  AZXP46IB63PU8   \n",
       "\n",
       "         asin  overall                                              title  \\\n",
       "0  B0007W1R58      5.0        Olay Regenerist Night Recovery Cream 1.7 Oz   \n",
       "1  B000KPO99I      5.0  L'Oreal Paris Age Perfect Night Cream, 2.5 Flu...   \n",
       "2  B000UVZU1S      5.0  St. Ives Facial Moisturizer, Timeless Skin Col...   \n",
       "3  B0012J30LY      5.0            Regenerist Micro-Sculpting Cream 1.7 Oz   \n",
       "4  B0043494XS      5.0  Conair Waterfall Foot Spa with Lights, Bubbles...   \n",
       "5  B004YWRYUY      5.0        L'oreal Age Perfect Day Cream SPF 15 2.5 Oz   \n",
       "6  B005H1541C      5.0  L'Oreal Paris Age Perfect Hydra-Nutrition Adva...   \n",
       "7  B00AHH00TC      5.0    Gold Bond Diabetic Skin Relief Lotion, 13 Ounce   \n",
       "\n",
       "       type_L1 type_L2                type_L3  \n",
       "0    Skin Care    Body           Moisturizers  \n",
       "1    Skin Care    Face  Creams & Moisturizers  \n",
       "2    Skin Care    Face  Creams & Moisturizers  \n",
       "3    Skin Care    Face  Creams & Moisturizers  \n",
       "4  Bath & Body    Bath            Bubble Bath  \n",
       "5    Skin Care    Face  Creams & Moisturizers  \n",
       "6    Skin Care    Face          Oils & Serums  \n",
       "7    Skin Care    Body           Moisturizers  "
      ]
     },
     "execution_count": 33,
     "metadata": {},
     "output_type": "execute_result"
    }
   ],
   "source": [
    "# check for the details about what the user has rated\n",
    "df.loc[df['reviewerID']=='AZXP46IB63PU8'].merge(meta, how='left',on='asin')[[\"reviewText\",\"reviewerID\",\\\n",
    "                                                                             \"asin\",\"overall\",\"title\",\\\n",
    "                                                                             \"type_L1\",\"type_L2\",\"type_L3\"]]"
   ]
  },
  {
   "cell_type": "markdown",
   "metadata": {},
   "source": [
    "According to the table above, most items this user rated are anti-aging products, which indicates his/her age might be over fourty fifty. He/She also bought foot care, which indicates this user might be focus on detail parts of his/her body.<br>\n",
    "Anti-wrinkle and anti-oxidants products with asin ID as \"B003MTPE5M\" and \"B003H87S0C\" are amongst the top 10 items recommended to the customer. These items are most related to the anti-aging products the customer cares about. Besides, this customer has a dry skin according to his/her reviews. The body wash product 'B004A7VG70' also provide extra moisture to skin.<br>\n",
    "<br/>\n",
    "___Note___: Since the collborative filter recommends products to customer bought at least 8 items and pops out 3 items rated by each customer into test set at the beginning, there is much more randomness in the recommended items to customers who rated few number of items. For instance, the customer analyzed above rated 6 anti-aging products and 2 others. With the random split on the item rated into training and test, the combination of 5 anti-aging products in the training set versus the combination of 3 anti-aging products and 2 other products would lead to a very different prediction for this customer. The randomness in recommended items is derived from the high sparsity of the overall user-item rating matrix. And, too many sample would be dropped if we take an aggressive lift the threshold on number of items rated by users in the N-core matrix.\n",
    "\n"
   ]
  },
  {
   "cell_type": "code",
   "execution_count": 38,
   "metadata": {
    "collapsed": false
   },
   "outputs": [
    {
     "data": {
      "text/plain": [
       "array([['Moisturizer-Almond Aloe With SPF15 Earth Science 5 oz Cream']], dtype=object)"
      ]
     },
     "execution_count": 38,
     "metadata": {},
     "output_type": "execute_result"
    }
   ],
   "source": [
    "meta.loc[meta['asin']==\"B000F8FZAC\",[\"title\"]].values"
   ]
  },
  {
   "cell_type": "code",
   "execution_count": null,
   "metadata": {
    "collapsed": true
   },
   "outputs": [],
   "source": []
  }
 ],
 "metadata": {
  "kernelspec": {
   "display_name": "wcml_py3.5",
   "language": "python",
   "name": "wcml_py3.5"
  },
  "language_info": {
   "codemirror_mode": {
    "name": "ipython",
    "version": 3
   },
   "file_extension": ".py",
   "mimetype": "text/x-python",
   "name": "python",
   "nbconvert_exporter": "python",
   "pygments_lexer": "ipython3",
   "version": "3.5.3"
  }
 },
 "nbformat": 4,
 "nbformat_minor": 2
}
