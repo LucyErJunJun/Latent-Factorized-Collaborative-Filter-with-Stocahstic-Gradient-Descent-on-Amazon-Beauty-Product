{
 "cells": [
  {
   "cell_type": "code",
   "execution_count": 1,
   "metadata": {
    "collapsed": true
   },
   "outputs": [],
   "source": [
    "import copy\n",
    "import os\n",
    "import pandas as pd\n",
    "import math\n",
    "import gzip\n",
    "import numpy as np\n",
    "import matplotlib.pyplot as plt\n",
    "from sklearn.metrics.pairwise import cosine_similarity\n",
    "import seaborn as sns; sns.set(style=\"white\", color_codes=True)\n",
    "import json\n",
    "from sklearn.metrics import mean_squared_error\n",
    "%matplotlib inline\n",
    "import os\n",
    "import datetime"
   ]
  },
  {
   "cell_type": "code",
   "execution_count": 27,
   "metadata": {
    "collapsed": true
   },
   "outputs": [],
   "source": [
    "def parse(path):\n",
    "    g = open(path, 'rb')\n",
    "    for l in g:\n",
    "        yield eval(l)\n",
    "\n",
    "def getDF(path):\n",
    "    i = 0\n",
    "    df = {}\n",
    "    for d in parse(path):\n",
    "        df[i] = d\n",
    "        i += 1\n",
    "    return pd.DataFrame.from_dict(df, orient='index')"
   ]
  },
  {
   "cell_type": "code",
   "execution_count": 2,
   "metadata": {
    "collapsed": true
   },
   "outputs": [],
   "source": [
    "current_file = os.path.abspath(os.getcwd()+ \"/../../\")\n",
    "df_original = getDF(current_file+'/Phase 1/Beauty_5.json')"
   ]
  },
  {
   "cell_type": "code",
   "execution_count": 3,
   "metadata": {
    "collapsed": true
   },
   "outputs": [],
   "source": [
    "df=copy.deepcopy(df_original)\n",
    "df['unixReviewTime_new']=pd.to_datetime(df['unixReviewTime'],unit='s')"
   ]
  },
  {
   "cell_type": "code",
   "execution_count": 4,
   "metadata": {},
   "outputs": [
    {
     "data": {
      "text/plain": [
       "(2002, 6)     0.001511\n",
       "(2002, 11)    0.000504\n",
       "(2003, 5)     0.001008\n",
       "(2003, 10)    0.000504\n",
       "(2003, 11)    0.000504\n",
       "(2003, 12)    0.002519\n",
       "(2004, 1)     0.002015\n",
       "(2004, 2)     0.003023\n",
       "(2004, 3)     0.001511\n",
       "(2004, 4)     0.002519\n",
       "(2004, 5)     0.007557\n",
       "(2004, 6)     0.001511\n",
       "(2004, 7)     0.001511\n",
       "(2004, 8)     0.003023\n",
       "(2004, 9)     0.002519\n",
       "(2004, 10)    0.003526\n",
       "(2004, 11)    0.002519\n",
       "(2004, 12)    0.002519\n",
       "(2005, 1)     0.005542\n",
       "(2005, 2)     0.002519\n",
       "(2005, 3)     0.005542\n",
       "(2005, 4)     0.002519\n",
       "(2005, 5)     0.002015\n",
       "(2005, 6)     0.011083\n",
       "(2005, 7)     0.008564\n",
       "(2005, 8)     0.005038\n",
       "(2005, 9)     0.007557\n",
       "(2005, 10)    0.013602\n",
       "(2005, 11)    0.003526\n",
       "(2005, 12)    0.006549\n",
       "                ...   \n",
       "(2012, 2)     0.856415\n",
       "(2012, 3)     0.891679\n",
       "(2012, 4)     0.947094\n",
       "(2012, 5)     1.045833\n",
       "(2012, 6)     1.254395\n",
       "(2012, 7)     1.374293\n",
       "(2012, 8)     1.637767\n",
       "(2012, 9)     1.184875\n",
       "(2012, 10)    1.262456\n",
       "(2012, 11)    1.775801\n",
       "(2012, 12)    2.820626\n",
       "(2013, 1)     3.536992\n",
       "(2013, 2)     3.484096\n",
       "(2013, 3)     4.669978\n",
       "(2013, 4)     4.309780\n",
       "(2013, 5)     3.575279\n",
       "(2013, 6)     3.229187\n",
       "(2013, 7)     3.363190\n",
       "(2013, 8)     3.499209\n",
       "(2013, 9)     2.845311\n",
       "(2013, 10)    3.201983\n",
       "(2013, 11)    3.384853\n",
       "(2013, 12)    3.847316\n",
       "(2014, 1)     4.248320\n",
       "(2014, 2)     4.041773\n",
       "(2014, 3)     4.852344\n",
       "(2014, 4)     4.449325\n",
       "(2014, 5)     4.327412\n",
       "(2014, 6)     4.412046\n",
       "(2014, 7)     3.043294\n",
       "Name: unixReviewTime_new, Length: 133, dtype: float64"
      ]
     },
     "execution_count": 4,
     "metadata": {},
     "output_type": "execute_result"
    }
   ],
   "source": [
    "def year_month(df,idx,col):\n",
    "    return (df.loc[idx,col].year,df.loc[idx,col].month)\n",
    "\n",
    "\n",
    "df.groupby(lambda x: year_month(df,x,'unixReviewTime_new'))['unixReviewTime_new'].apply(lambda x:\n",
    "                                                 100 * x.count() / df.shape[0])"
   ]
  },
  {
   "cell_type": "code",
   "execution_count": 5,
   "metadata": {
    "collapsed": true
   },
   "outputs": [],
   "source": [
    "df['month_date']=df['unixReviewTime_new'].apply(lambda x : str(x.year)+\"-\"+str(x.month) if x.month>=10 else str(x.year)+\"-0\"+str(x.month))"
   ]
  },
  {
   "cell_type": "code",
   "execution_count": 6,
   "metadata": {},
   "outputs": [
    {
     "data": {
      "text/plain": [
       "(array([  3.00000000e+00,   1.00000000e+00,   0.00000000e+00,\n",
       "          2.00000000e+00,   0.00000000e+00,   2.00000000e+00,\n",
       "          1.20000000e+01,   2.20000000e+01,   1.30000000e+01,\n",
       "          2.00000000e+01,   1.80000000e+01,   2.10000000e+01,\n",
       "          4.30000000e+01,   5.10000000e+01,   3.40000000e+01,\n",
       "          4.30000000e+01,   5.20000000e+01,   5.60000000e+01,\n",
       "          8.50000000e+01,   9.90000000e+01,   1.22000000e+02,\n",
       "          1.08000000e+02,   1.98000000e+02,   4.07000000e+02,\n",
       "          3.48000000e+02,   6.27000000e+02,   6.37000000e+02,\n",
       "          8.35000000e+02,   8.53000000e+02,   6.03000000e+02,\n",
       "          7.13000000e+02,   7.84000000e+02,   9.56000000e+02,\n",
       "          1.25400000e+03,   1.32800000e+03,   1.79200000e+03,\n",
       "          2.63100000e+03,   2.96500000e+03,   3.45800000e+03,\n",
       "          4.99100000e+03,   5.33500000e+03,   7.78800000e+03,\n",
       "          7.35100000e+03,   1.68790000e+04,   2.46010000e+04,\n",
       "          1.93640000e+04,   1.81130000e+04,   2.17910000e+04,\n",
       "          2.63620000e+04,   2.47310000e+04]),\n",
       " array([ 731013.  ,  731101.48,  731189.96,  731278.44,  731366.92,\n",
       "         731455.4 ,  731543.88,  731632.36,  731720.84,  731809.32,\n",
       "         731897.8 ,  731986.28,  732074.76,  732163.24,  732251.72,\n",
       "         732340.2 ,  732428.68,  732517.16,  732605.64,  732694.12,\n",
       "         732782.6 ,  732871.08,  732959.56,  733048.04,  733136.52,\n",
       "         733225.  ,  733313.48,  733401.96,  733490.44,  733578.92,\n",
       "         733667.4 ,  733755.88,  733844.36,  733932.84,  734021.32,\n",
       "         734109.8 ,  734198.28,  734286.76,  734375.24,  734463.72,\n",
       "         734552.2 ,  734640.68,  734729.16,  734817.64,  734906.12,\n",
       "         734994.6 ,  735083.08,  735171.56,  735260.04,  735348.52,  735437.  ]),\n",
       " <a list of 50 Patch objects>)"
      ]
     },
     "execution_count": 6,
     "metadata": {},
     "output_type": "execute_result"
    },
    {
     "data": {
      "image/png": "[encoded data removed]",
      "text/plain": [
       "<matplotlib.figure.Figure at 0x1158a3588>"
      ]
     },
     "metadata": {},
     "output_type": "display_data"
    }
   ],
   "source": [
    "plt.hist(df['unixReviewTime_new'].values,bins=50)"
   ]
  },
  {
   "cell_type": "code",
   "execution_count": 7,
   "metadata": {
    "collapsed": true
   },
   "outputs": [],
   "source": [
    "df_inital=df.loc[df['unixReviewTime_new']<datetime.datetime(2014,5,1)]"
   ]
  },
  {
   "cell_type": "code",
   "execution_count": 8,
   "metadata": {},
   "outputs": [
    {
     "data": {
      "text/plain": [
       "Timestamp('2014-04-30 00:00:00')"
      ]
     },
     "execution_count": 8,
     "metadata": {},
     "output_type": "execute_result"
    }
   ],
   "source": [
    "np.max(df_inital['unixReviewTime_new'])"
   ]
  },
  {
   "cell_type": "code",
   "execution_count": 9,
   "metadata": {},
   "outputs": [
    {
     "name": "stderr",
     "output_type": "stream",
     "text": [
      "/Users/heyijun/anaconda/envs/wcdml_py3.5/lib/python3.5/site-packages/ipykernel_launcher.py:1: SettingWithCopyWarning: \n",
      "A value is trying to be set on a copy of a slice from a DataFrame\n",
      "\n",
      "See the caveats in the documentation: http://pandas.pydata.org/pandas-docs/stable/indexing.html#indexing-view-versus-copy\n",
      "  \"\"\"Entry point for launching an IPython kernel.\n"
     ]
    }
   ],
   "source": [
    "df_inital.drop(['unixReviewTime_new','month_date'],axis=1,inplace=True)"
   ]
  },
  {
   "cell_type": "code",
   "execution_count": 11,
   "metadata": {
    "collapsed": true
   },
   "outputs": [],
   "source": [
    "df_inital.to_json(\"beauty_5_init.json\",orient=\"records\",lines=True)"
   ]
  },
  {
   "cell_type": "code",
   "execution_count": 16,
   "metadata": {},
   "outputs": [
    {
     "data": {
      "text/plain": [
       "[1, 2, 3]"
      ]
     },
     "execution_count": 16,
     "metadata": {},
     "output_type": "execute_result"
    }
   ],
   "source": []
  },
  {
   "cell_type": "code",
   "execution_count": 19,
   "metadata": {},
   "outputs": [
    {
     "name": "stderr",
     "output_type": "stream",
     "text": [
      "/Users/heyijun/anaconda/envs/wcdml_py3.5/lib/python3.5/site-packages/ipykernel_launcher.py:3: SettingWithCopyWarning: \n",
      "A value is trying to be set on a copy of a slice from a DataFrame\n",
      "\n",
      "See the caveats in the documentation: http://pandas.pydata.org/pandas-docs/stable/indexing.html#indexing-view-versus-copy\n",
      "  This is separate from the ipykernel package so we can avoid doing imports until\n"
     ]
    }
   ],
   "source": [
    "for i in np.arange(1,4).tolist():\n",
    "    vars()['df_retrain_'+str(i)]=df.loc[(df['unixReviewTime_new']>=datetime.datetime(2014,4+i,1))\\\n",
    "                        &(df['unixReviewTime_new']<datetime.datetime(2014,5+i,1))]\n",
    "    vars()['df_retrain_'+str(i)].drop(['unixReviewTime_new','month_date'],axis=1,inplace=True)\n",
    "    vars()['df_retrain_'+str(i)].to_json(\"beauty_5_retrain\"+ str(i)+\".json\",orient=\"records\",lines=True)"
   ]
  },
  {
   "cell_type": "code",
   "execution_count": 34,
   "metadata": {},
   "outputs": [],
   "source": [
    "null = None\n",
    "retrain2=getDF('beauty_5_retrain2.json')"
   ]
  },
  {
   "cell_type": "code",
   "execution_count": 35,
   "metadata": {},
   "outputs": [
    {
     "name": "stdout",
     "output_type": "stream",
     "text": [
      "2014-06-01 00:00:00\n",
      "2014-06-30 00:00:00\n"
     ]
    }
   ],
   "source": [
    "retrain2['unixReviewTime_new']=pd.to_datetime(retrain2['unixReviewTime'],unit='s')\n",
    "print (np.min(retrain2['unixReviewTime_new']))\n",
    "print (np.max(retrain2['unixReviewTime_new']))"
   ]
  },
  {
   "cell_type": "code",
   "execution_count": null,
   "metadata": {
    "collapsed": true
   },
   "outputs": [],
   "source": []
  }
 ],
 "metadata": {
  "kernelspec": {
   "display_name": "wcml_py3.5",
   "language": "python",
   "name": "wcml_py3.5"
  },
  "language_info": {
   "codemirror_mode": {
    "name": "ipython",
    "version": 3
   },
   "file_extension": ".py",
   "mimetype": "text/x-python",
   "name": "python",
   "nbconvert_exporter": "python",
   "pygments_lexer": "ipython3",
   "version": "3.5.3"
  }
 },
 "nbformat": 4,
 "nbformat_minor": 2
}
